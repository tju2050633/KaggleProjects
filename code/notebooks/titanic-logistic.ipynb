{
 "cells": [
  {
   "cell_type": "code",
   "execution_count": 1,
   "metadata": {},
   "outputs": [],
   "source": [
    "# code/notebooks/titanic-mlp.ipynb\n",
    "import sys\n",
    "sys.path.append('../utils')\n",
    "import os\n",
    "import pandas as pd\n",
    "import numpy as np\n",
    "import torch\n",
    "from torch import nn\n",
    "from load_data import load_data\n",
    "from train import train\n"
   ]
  },
  {
   "cell_type": "code",
   "execution_count": 2,
   "metadata": {},
   "outputs": [
    {
     "name": "stdout",
     "output_type": "stream",
     "text": [
      "   PassengerId  Survived  Pclass  \\\n",
      "0            1         0       3   \n",
      "1            2         1       1   \n",
      "2            3         1       3   \n",
      "3            4         1       1   \n",
      "4            5         0       3   \n",
      "\n",
      "                                                Name     Sex   Age  SibSp  \\\n",
      "0                            Braund, Mr. Owen Harris    male  22.0      1   \n",
      "1  Cumings, Mrs. John Bradley (Florence Briggs Th...  female  38.0      1   \n",
      "2                             Heikkinen, Miss. Laina  female  26.0      0   \n",
      "3       Futrelle, Mrs. Jacques Heath (Lily May Peel)  female  35.0      1   \n",
      "4                           Allen, Mr. William Henry    male  35.0      0   \n",
      "\n",
      "   Parch            Ticket     Fare Cabin Embarked  \n",
      "0      0         A/5 21171   7.2500   NaN        S  \n",
      "1      0          PC 17599  71.2833   C85        C  \n",
      "2      0  STON/O2. 3101282   7.9250   NaN        S  \n",
      "3      0            113803  53.1000  C123        S  \n",
      "4      0            373450   8.0500   NaN        S  \n",
      "   PassengerId  Survived  Pclass     Sex   Age  SibSp  Parch     Fare Embarked\n",
      "0            1         0       3    male  22.0      1      0   7.2500        S\n",
      "1            2         1       1  female  38.0      1      0  71.2833        C\n",
      "2            3         1       3  female  26.0      0      0   7.9250        S\n",
      "3            4         1       1  female  35.0      1      0  53.1000        S\n",
      "4            5         0       3    male  35.0      0      0   8.0500        S\n",
      "   PassengerId  Survived  Pclass     Sex   Age  SibSp  Parch     Fare Embarked\n",
      "0            1         0       3    male  22.0      1      0   7.2500        S\n",
      "1            2         1       1  female  38.0      1      0  71.2833        C\n",
      "2            3         1       3  female  26.0      0      0   7.9250        S\n",
      "3            4         1       1  female  35.0      1      0  53.1000        S\n",
      "4            5         0       3    male  35.0      0      0   8.0500        S\n",
      "   PassengerId  Survived  Pclass   Age  SibSp  Parch     Fare  Sex_male  \\\n",
      "0            1         0       3  22.0      1      0   7.2500         1   \n",
      "1            2         1       1  38.0      1      0  71.2833         0   \n",
      "2            3         1       3  26.0      0      0   7.9250         0   \n",
      "3            4         1       1  35.0      1      0  53.1000         0   \n",
      "4            5         0       3  35.0      0      0   8.0500         1   \n",
      "\n",
      "   Embarked_Q  Embarked_S  \n",
      "0           0           1  \n",
      "1           0           0  \n",
      "2           0           1  \n",
      "3           0           1  \n",
      "4           0           1  \n",
      "tensor([[ 3.0000, 22.0000,  1.0000,  0.0000,  7.2500,  1.0000,  0.0000,  1.0000],\n",
      "        [ 1.0000, 38.0000,  1.0000,  0.0000, 71.2833,  0.0000,  0.0000,  0.0000],\n",
      "        [ 3.0000, 26.0000,  0.0000,  0.0000,  7.9250,  0.0000,  0.0000,  1.0000],\n",
      "        [ 1.0000, 35.0000,  1.0000,  0.0000, 53.1000,  0.0000,  0.0000,  1.0000],\n",
      "        [ 3.0000, 35.0000,  0.0000,  0.0000,  8.0500,  1.0000,  0.0000,  1.0000]])\n"
     ]
    }
   ],
   "source": [
    "# 设置索引字符串\n",
    "file_name=\"titanic-logistic\"\n",
    "title=\"titanic\"\n",
    "label=\"Survived\"\n",
    "id=\"PassengerId\"\n",
    "\n",
    "# 加载数据\n",
    "X_train, y_train, X_val, y_val, X_test = load_data(title=title, label=label,\n",
    "                                     id=id,\n",
    "                                     drop_features=[\"Name\", \"Ticket\", \"Cabin\"],\n",
    "                                     fill_na=[\"Age\", \"Embarked\", \"Fare\"],\n",
    "                                     one_hot=[\"Sex\", \"Embarked\"])\n",
    "# 打印前5行\n",
    "print(X_train[:5])"
   ]
  },
  {
   "cell_type": "code",
   "execution_count": 3,
   "metadata": {},
   "outputs": [
    {
     "name": "stdout",
     "output_type": "stream",
     "text": [
      "Epoch: 100, Loss: 0.5546, Train Acc: 0.7293, Val Acc: 0.7809\n",
      "Epoch: 200, Loss: 0.5170, Train Acc: 0.7896, Val Acc: 0.8258\n",
      "Epoch: 300, Loss: 0.4990, Train Acc: 0.7854, Val Acc: 0.8202\n",
      "Epoch: 400, Loss: 0.4888, Train Acc: 0.7854, Val Acc: 0.8258\n",
      "Epoch: 500, Loss: 0.4819, Train Acc: 0.7896, Val Acc: 0.8258\n",
      "Epoch: 600, Loss: 0.4766, Train Acc: 0.7868, Val Acc: 0.8258\n",
      "Epoch: 700, Loss: 0.4720, Train Acc: 0.7868, Val Acc: 0.8315\n",
      "Epoch: 800, Loss: 0.4682, Train Acc: 0.7896, Val Acc: 0.8315\n",
      "Epoch: 900, Loss: 0.4650, Train Acc: 0.7896, Val Acc: 0.8315\n",
      "Epoch: 1000, Loss: 0.4623, Train Acc: 0.7910, Val Acc: 0.8315\n"
     ]
    }
   ],
   "source": [
    "# logistic模型\n",
    "class Logistic(nn.Module):\n",
    "    def __init__(self, input_dim):\n",
    "        super(Logistic, self).__init__()\n",
    "        self.linear = nn.Linear(input_dim, 1)\n",
    "        self.sigmoid = nn.Sigmoid()\n",
    "\n",
    "    def forward(self, x):\n",
    "        return self.sigmoid(self.linear(x))\n",
    "    \n",
    "model = Logistic(X_train.shape[1])\n",
    "\n",
    "# 训练模型\n",
    "train(model, X_train, y_train, X_val, y_val,\n",
    "        epochs=1000, loss_fn=nn.BCELoss(), optimizer=torch.optim.Adam(model.parameters(), lr = 0.01),\n",
    "        stage=100, draw=False, log=True)"
   ]
  },
  {
   "cell_type": "code",
   "execution_count": 4,
   "metadata": {},
   "outputs": [],
   "source": [
    "# 保存模型\n",
    "torch.save(model, \"../../models/\" + file_name + \".pt\")\n",
    "\n",
    "# 存储预测结果\n",
    "id_col = pd.read_csv(\"../../data/raw/\" + title + \"/test.csv\")[id]\n",
    "y_pred = model(X_test).detach().numpy().round().astype(int).flatten()\n",
    "\n",
    "submission = pd.DataFrame({\n",
    "    id: id_col,\n",
    "    label: y_pred\n",
    "})\n",
    "submission.to_csv(\"../../data/submission/\" + file_name + \".csv\", index=False)"
   ]
  }
 ],
 "metadata": {
  "kernelspec": {
   "display_name": "Python 3",
   "language": "python",
   "name": "python3"
  },
  "language_info": {
   "codemirror_mode": {
    "name": "ipython",
    "version": 3
   },
   "file_extension": ".py",
   "mimetype": "text/x-python",
   "name": "python",
   "nbconvert_exporter": "python",
   "pygments_lexer": "ipython3",
   "version": "3.8.9"
  },
  "orig_nbformat": 4,
  "vscode": {
   "interpreter": {
    "hash": "31f2aee4e71d21fbe5cf8b01ff0e069b9275f58929596ceb00d14d90e3e16cd6"
   }
  }
 },
 "nbformat": 4,
 "nbformat_minor": 2
}
