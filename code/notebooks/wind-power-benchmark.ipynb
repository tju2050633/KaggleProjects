{
 "cells": [
  {
   "attachments": {},
   "cell_type": "markdown",
   "metadata": {},
   "source": [
    "# 数据说明\n",
    "预选赛训练数据和区域赛训练数据分别为不同10个风电场近一年的运行数据共30万余条，每15分钟采集一次，包括风速、风向、温度、湿度、气压和真实功率等，具体的数据字段中英文对应如下：\n",
    "\n",
    "- WINDSPEED 预测风速\n",
    "- WINDDIRECTION 风向\n",
    "- TEMPERATURE 温度\n",
    "- HUMIDITY 湿度\n",
    "- PRESSURE 气压\n",
    "- ROUND(A.WS,1) 实际风速\n",
    "- ROUND(A.POWER,0) 实际功率\n",
    "\n",
    "考虑到风电场的特殊性，不同风机间的地理位置也是序列预测的一个重要参考价值。不过本文更关注于与该项目类似的场景，多时间序列预测其实在各个企业里非常常见，比如生产企业不同电机的工况、不同产品在不同地区的销量预测，如果关联性不是特别大的情况，我们可以考虑用纯时间序列预测生成基线结果。\n"
   ]
  },
  {
   "cell_type": "code",
   "execution_count": 5,
   "metadata": {},
   "outputs": [
    {
     "ename": "TypeError",
     "evalue": "Descriptors cannot not be created directly.\nIf this call came from a _pb2.py file, your generated code is out of date and must be regenerated with protoc >= 3.19.0.\nIf you cannot immediately regenerate your protos, some other possible workarounds are:\n 1. Downgrade the protobuf package to 3.20.x or lower.\n 2. Set PROTOCOL_BUFFERS_PYTHON_IMPLEMENTATION=python (but this will use pure-Python parsing and will be much slower).\n\nMore information: https://developers.google.com/protocol-buffers/docs/news/2022-05-06#python-updates",
     "output_type": "error",
     "traceback": [
      "\u001b[0;31m---------------------------------------------------------------------------\u001b[0m",
      "\u001b[0;31mTypeError\u001b[0m                                 Traceback (most recent call last)",
      "Cell \u001b[0;32mIn[5], line 10\u001b[0m\n\u001b[1;32m      8\u001b[0m \u001b[39mimport\u001b[39;00m \u001b[39mdatetime\u001b[39;00m\n\u001b[1;32m      9\u001b[0m \u001b[39m# import paddlets\u001b[39;00m\n\u001b[0;32m---> 10\u001b[0m \u001b[39mfrom\u001b[39;00m \u001b[39mpaddlets\u001b[39;00m \u001b[39mimport\u001b[39;00m TSDataset\n\u001b[1;32m     11\u001b[0m \u001b[39mfrom\u001b[39;00m \u001b[39mpaddlets\u001b[39;00m \u001b[39mimport\u001b[39;00m TimeSeries\n\u001b[1;32m     12\u001b[0m \u001b[39mfrom\u001b[39;00m \u001b[39mpaddlets\u001b[39;00m\u001b[39m.\u001b[39;00m\u001b[39mmodels\u001b[39;00m\u001b[39m.\u001b[39;00m\u001b[39mforecasting\u001b[39;00m \u001b[39mimport\u001b[39;00m MLPRegressor, LSTNetRegressor\n",
      "File \u001b[0;32m~/Library/Python/3.8/lib/python/site-packages/paddlets/__init__.py:5\u001b[0m\n\u001b[1;32m      1\u001b[0m \u001b[39m\"\"\"\u001b[39;00m\n\u001b[1;32m      2\u001b[0m \u001b[39mpaddlets\u001b[39;00m\n\u001b[1;32m      3\u001b[0m \u001b[39m\"\"\"\u001b[39;00m\n\u001b[1;32m      4\u001b[0m \u001b[39mfrom\u001b[39;00m \u001b[39mpaddlets\u001b[39;00m\u001b[39m.\u001b[39;00m\u001b[39mdatasets\u001b[39;00m \u001b[39mimport\u001b[39;00m TimeSeries, TSDataset\n\u001b[0;32m----> 5\u001b[0m \u001b[39mfrom\u001b[39;00m \u001b[39mpaddlets\u001b[39;00m\u001b[39m.\u001b[39;00m\u001b[39mpipeline\u001b[39;00m \u001b[39mimport\u001b[39;00m Pipeline\n\u001b[1;32m      7\u001b[0m __version__\u001b[39m=\u001b[39m\u001b[39m\"\u001b[39m\u001b[39m1.1.0\u001b[39m\u001b[39m\"\u001b[39m\n",
      "File \u001b[0;32m~/Library/Python/3.8/lib/python/site-packages/paddlets/pipeline/__init__.py:4\u001b[0m\n\u001b[1;32m      1\u001b[0m \u001b[39m\"\"\"\u001b[39;00m\n\u001b[1;32m      2\u001b[0m \u001b[39mpipeline\u001b[39;00m\n\u001b[1;32m      3\u001b[0m \u001b[39m\"\"\"\u001b[39;00m\n\u001b[0;32m----> 4\u001b[0m \u001b[39mfrom\u001b[39;00m \u001b[39mpaddlets\u001b[39;00m\u001b[39m.\u001b[39;00m\u001b[39mpipeline\u001b[39;00m\u001b[39m.\u001b[39;00m\u001b[39mpipeline\u001b[39;00m \u001b[39mimport\u001b[39;00m Pipeline\n",
      "File \u001b[0;32m~/Library/Python/3.8/lib/python/site-packages/paddlets/pipeline/pipeline.py:16\u001b[0m\n\u001b[1;32m     14\u001b[0m \u001b[39mfrom\u001b[39;00m \u001b[39mpaddlets\u001b[39;00m\u001b[39m.\u001b[39;00m\u001b[39mlogger\u001b[39;00m\u001b[39m.\u001b[39;00m\u001b[39mlogger\u001b[39;00m \u001b[39mimport\u001b[39;00m log_decorator\n\u001b[1;32m     15\u001b[0m \u001b[39mfrom\u001b[39;00m \u001b[39mpaddlets\u001b[39;00m\u001b[39m.\u001b[39;00m\u001b[39mmodels\u001b[39;00m\u001b[39m.\u001b[39;00m\u001b[39mmodel_loader\u001b[39;00m \u001b[39mimport\u001b[39;00m load \u001b[39mas\u001b[39;00m paddlets_model_load\n\u001b[0;32m---> 16\u001b[0m \u001b[39mfrom\u001b[39;00m \u001b[39mpaddlets\u001b[39;00m\u001b[39m.\u001b[39;00m\u001b[39mutils\u001b[39;00m\u001b[39m.\u001b[39;00m\u001b[39mutils\u001b[39;00m \u001b[39mimport\u001b[39;00m get_tsdataset_max_len, split_dataset\n\u001b[1;32m     18\u001b[0m logger \u001b[39m=\u001b[39m Logger(\u001b[39m__name__\u001b[39m)\n\u001b[1;32m     21\u001b[0m \u001b[39mclass\u001b[39;00m \u001b[39mPipeline\u001b[39;00m(Trainable):\n",
      "File \u001b[0;32m~/Library/Python/3.8/lib/python/site-packages/paddlets/utils/__init__.py:6\u001b[0m\n\u001b[1;32m      1\u001b[0m \u001b[39m# !/usr/bin/env python3\u001b[39;00m\n\u001b[1;32m      2\u001b[0m \u001b[39m# -*- coding:utf-8 -*-\u001b[39;00m\n\u001b[1;32m      3\u001b[0m \u001b[39m\"\"\"\u001b[39;00m\n\u001b[1;32m      4\u001b[0m \u001b[39m    utils\u001b[39;00m\n\u001b[1;32m      5\u001b[0m \u001b[39m\"\"\"\u001b[39;00m\n\u001b[0;32m----> 6\u001b[0m \u001b[39mfrom\u001b[39;00m \u001b[39mpaddlets\u001b[39;00m\u001b[39m.\u001b[39;00m\u001b[39mutils\u001b[39;00m\u001b[39m.\u001b[39;00m\u001b[39mutils\u001b[39;00m \u001b[39mimport\u001b[39;00m get_uuid\n\u001b[1;32m      7\u001b[0m \u001b[39mfrom\u001b[39;00m \u001b[39mpaddlets\u001b[39;00m\u001b[39m.\u001b[39;00m\u001b[39mutils\u001b[39;00m\u001b[39m.\u001b[39;00m\u001b[39mutils\u001b[39;00m \u001b[39mimport\u001b[39;00m check_model_fitted, check_train_valid_continuity, split_dataset\n\u001b[1;32m      8\u001b[0m \u001b[39mfrom\u001b[39;00m \u001b[39mpaddlets\u001b[39;00m\u001b[39m.\u001b[39;00m\u001b[39mutils\u001b[39;00m\u001b[39m.\u001b[39;00m\u001b[39mbacktest\u001b[39;00m \u001b[39mimport\u001b[39;00m backtest\n",
      "File \u001b[0;32m~/Library/Python/3.8/lib/python/site-packages/paddlets/utils/utils.py:18\u001b[0m\n\u001b[1;32m     16\u001b[0m \u001b[39mfrom\u001b[39;00m \u001b[39mpaddlets\u001b[39;00m\u001b[39m.\u001b[39;00m\u001b[39mlogger\u001b[39;00m \u001b[39mimport\u001b[39;00m raise_if_not, raise_if, raise_log, Logger\n\u001b[1;32m     17\u001b[0m \u001b[39mfrom\u001b[39;00m \u001b[39mpaddlets\u001b[39;00m\u001b[39m.\u001b[39;00m\u001b[39mdatasets\u001b[39;00m\u001b[39m.\u001b[39;00m\u001b[39mtsdataset\u001b[39;00m \u001b[39mimport\u001b[39;00m TSDataset\n\u001b[0;32m---> 18\u001b[0m \u001b[39mfrom\u001b[39;00m \u001b[39mpaddlets\u001b[39;00m\u001b[39m.\u001b[39;00m\u001b[39mmodels\u001b[39;00m\u001b[39m.\u001b[39;00m\u001b[39mdata_adapter\u001b[39;00m \u001b[39mimport\u001b[39;00m DataAdapter\n\u001b[1;32m     20\u001b[0m logger \u001b[39m=\u001b[39m Logger(\u001b[39m__name__\u001b[39m)\n\u001b[1;32m     22\u001b[0m \u001b[39mdef\u001b[39;00m \u001b[39mcheck_model_fitted\u001b[39m(model: Trainable, msg: \u001b[39mstr\u001b[39m \u001b[39m=\u001b[39m \u001b[39mNone\u001b[39;00m):\n",
      "File \u001b[0;32m~/Library/Python/3.8/lib/python/site-packages/paddlets/models/data_adapter.py:4\u001b[0m\n\u001b[1;32m      1\u001b[0m \u001b[39m# !/usr/bin/env python3\u001b[39;00m\n\u001b[1;32m      2\u001b[0m \u001b[39m# -*- coding:utf-8 -*-\u001b[39;00m\n\u001b[0;32m----> 4\u001b[0m \u001b[39mimport\u001b[39;00m \u001b[39mpaddle\u001b[39;00m\n\u001b[1;32m      5\u001b[0m \u001b[39mimport\u001b[39;00m \u001b[39mnumpy\u001b[39;00m \u001b[39mas\u001b[39;00m \u001b[39mnp\u001b[39;00m\n\u001b[1;32m      6\u001b[0m \u001b[39mimport\u001b[39;00m \u001b[39mpandas\u001b[39;00m \u001b[39mas\u001b[39;00m \u001b[39mpd\u001b[39;00m\n",
      "File \u001b[0;32m~/Library/Python/3.8/lib/python/site-packages/paddle/__init__.py:25\u001b[0m\n\u001b[1;32m     20\u001b[0m     sys\u001b[39m.\u001b[39mstderr\u001b[39m.\u001b[39mwrite(\u001b[39m'''\u001b[39m\u001b[39mWarning with import paddle: you should not\u001b[39m\n\u001b[1;32m     21\u001b[0m \u001b[39m     import paddle from the source directory; please install paddlepaddle*.whl firstly.\u001b[39m\u001b[39m'''\u001b[39m\n\u001b[1;32m     22\u001b[0m                      )\n\u001b[1;32m     24\u001b[0m \u001b[39mfrom\u001b[39;00m \u001b[39m.\u001b[39;00m\u001b[39mbatch\u001b[39;00m \u001b[39mimport\u001b[39;00m batch  \u001b[39m# noqa: F401\u001b[39;00m\n\u001b[0;32m---> 25\u001b[0m \u001b[39mfrom\u001b[39;00m \u001b[39m.\u001b[39;00m\u001b[39mframework\u001b[39;00m \u001b[39mimport\u001b[39;00m monkey_patch_variable\n\u001b[1;32m     26\u001b[0m \u001b[39mfrom\u001b[39;00m \u001b[39m.\u001b[39;00m\u001b[39mframework\u001b[39;00m \u001b[39mimport\u001b[39;00m monkey_patch_math_varbase\n\u001b[1;32m     28\u001b[0m monkey_patch_variable()\n",
      "File \u001b[0;32m~/Library/Python/3.8/lib/python/site-packages/paddle/framework/__init__.py:17\u001b[0m\n\u001b[1;32m      1\u001b[0m \u001b[39m#   Copyright (c) 2020 PaddlePaddle Authors. All Rights Reserved.\u001b[39;00m\n\u001b[1;32m      2\u001b[0m \u001b[39m#\u001b[39;00m\n\u001b[1;32m      3\u001b[0m \u001b[39m# Licensed under the Apache License, Version 2.0 (the \"License\");\u001b[39;00m\n\u001b[0;32m   (...)\u001b[0m\n\u001b[1;32m     14\u001b[0m \n\u001b[1;32m     15\u001b[0m \u001b[39m# TODO: import framework api under this directory\u001b[39;00m\n\u001b[0;32m---> 17\u001b[0m \u001b[39mfrom\u001b[39;00m \u001b[39m.\u001b[39;00m \u001b[39mimport\u001b[39;00m random  \u001b[39m# noqa: F401\u001b[39;00m\n\u001b[1;32m     18\u001b[0m \u001b[39mfrom\u001b[39;00m \u001b[39m.\u001b[39;00m\u001b[39mrandom\u001b[39;00m \u001b[39mimport\u001b[39;00m seed  \u001b[39m# noqa: F401\u001b[39;00m\n\u001b[1;32m     19\u001b[0m \u001b[39mfrom\u001b[39;00m \u001b[39m.\u001b[39;00m\u001b[39mframework\u001b[39;00m \u001b[39mimport\u001b[39;00m get_default_dtype  \u001b[39m# noqa: F401\u001b[39;00m\n",
      "File \u001b[0;32m~/Library/Python/3.8/lib/python/site-packages/paddle/framework/random.py:16\u001b[0m\n\u001b[1;32m      1\u001b[0m \u001b[39m#   Copyright (c) 2020 PaddlePaddle Authors. All Rights Reserved.\u001b[39;00m\n\u001b[1;32m      2\u001b[0m \u001b[39m#\u001b[39;00m\n\u001b[1;32m      3\u001b[0m \u001b[39m# Licensed under the Apache License, Version 2.0 (the \"License\");\u001b[39;00m\n\u001b[0;32m   (...)\u001b[0m\n\u001b[1;32m     14\u001b[0m \n\u001b[1;32m     15\u001b[0m \u001b[39m# TODO: define random api\u001b[39;00m\n\u001b[0;32m---> 16\u001b[0m \u001b[39mimport\u001b[39;00m \u001b[39mpaddle\u001b[39;00m\u001b[39m.\u001b[39;00m\u001b[39mfluid\u001b[39;00m \u001b[39mas\u001b[39;00m \u001b[39mfluid\u001b[39;00m\n\u001b[1;32m     17\u001b[0m \u001b[39mfrom\u001b[39;00m \u001b[39mpaddle\u001b[39;00m\u001b[39m.\u001b[39;00m\u001b[39mfluid\u001b[39;00m \u001b[39mimport\u001b[39;00m core\n\u001b[1;32m     19\u001b[0m __all__ \u001b[39m=\u001b[39m []\n",
      "File \u001b[0;32m~/Library/Python/3.8/lib/python/site-packages/paddle/fluid/__init__.py:36\u001b[0m\n\u001b[1;32m     33\u001b[0m         \u001b[39mraise\u001b[39;00m e\n\u001b[1;32m     35\u001b[0m \u001b[39m# import all class inside framework into fluid module\u001b[39;00m\n\u001b[0;32m---> 36\u001b[0m \u001b[39mfrom\u001b[39;00m \u001b[39m.\u001b[39;00m \u001b[39mimport\u001b[39;00m framework\n\u001b[1;32m     37\u001b[0m \u001b[39mfrom\u001b[39;00m \u001b[39m.\u001b[39;00m\u001b[39mframework\u001b[39;00m \u001b[39mimport\u001b[39;00m \u001b[39m*\u001b[39m\n\u001b[1;32m     38\u001b[0m \u001b[39m# import all class inside executor into fluid module\u001b[39;00m\n",
      "File \u001b[0;32m~/Library/Python/3.8/lib/python/site-packages/paddle/fluid/framework.py:35\u001b[0m\n\u001b[1;32m     33\u001b[0m \u001b[39mimport\u001b[39;00m \u001b[39mlogging\u001b[39;00m\n\u001b[1;32m     34\u001b[0m \u001b[39mfrom\u001b[39;00m \u001b[39m.\u001b[39;00m\u001b[39m.\u001b[39;00m \u001b[39mimport\u001b[39;00m compat \u001b[39mas\u001b[39;00m cpt\n\u001b[0;32m---> 35\u001b[0m \u001b[39mfrom\u001b[39;00m \u001b[39m.\u001b[39;00m\u001b[39mproto\u001b[39;00m \u001b[39mimport\u001b[39;00m framework_pb2\n\u001b[1;32m     37\u001b[0m \u001b[39mfrom\u001b[39;00m \u001b[39m.\u001b[39;00m \u001b[39mimport\u001b[39;00m core\n\u001b[1;32m     38\u001b[0m \u001b[39mfrom\u001b[39;00m \u001b[39m.\u001b[39;00m \u001b[39mimport\u001b[39;00m unique_name\n",
      "File \u001b[0;32m~/Library/Python/3.8/lib/python/site-packages/paddle/fluid/proto/framework_pb2.py:33\u001b[0m\n\u001b[1;32m     19\u001b[0m DESCRIPTOR \u001b[39m=\u001b[39m _descriptor\u001b[39m.\u001b[39mFileDescriptor(\n\u001b[1;32m     20\u001b[0m   name\u001b[39m=\u001b[39m\u001b[39m'\u001b[39m\u001b[39mframework.proto\u001b[39m\u001b[39m'\u001b[39m,\n\u001b[1;32m     21\u001b[0m   package\u001b[39m=\u001b[39m\u001b[39m'\u001b[39m\u001b[39mpaddle.framework.proto\u001b[39m\u001b[39m'\u001b[39m,\n\u001b[1;32m     22\u001b[0m   syntax\u001b[39m=\u001b[39m\u001b[39m'\u001b[39m\u001b[39mproto2\u001b[39m\u001b[39m'\u001b[39m,\n\u001b[1;32m     23\u001b[0m   serialized_pb\u001b[39m=\u001b[39m_b(\u001b[39m'\u001b[39m\u001b[39m\\n\u001b[39;00m\u001b[39m\\x0f\u001b[39;00m\u001b[39m\\x66\u001b[39;00m\u001b[39mramework.proto\u001b[39m\u001b[39m\\x12\u001b[39;00m\u001b[39m\\x16\u001b[39;00m\u001b[39mpaddle.framework.proto\u001b[39m\u001b[39m\\\"\u001b[39;00m\u001b[39m\\x1d\u001b[39;00m\u001b[39m\\n\u001b[39;00m\u001b[39m\\x07\u001b[39;00m\u001b[39mVersion\u001b[39m\u001b[39m\\x12\u001b[39;00m\u001b[39m\\x12\u001b[39;00m\u001b[39m\\n\u001b[39;00m\u001b[39m\\x07\u001b[39;00m\u001b[39mversion\u001b[39m\u001b[39m\\x18\u001b[39;00m\u001b[39m\\x01\u001b[39;00m\u001b[39m \u001b[39m\u001b[39m\\x01\u001b[39;00m\u001b[39m(\u001b[39m\u001b[39m\\x03\u001b[39;00m\u001b[39m:\u001b[39m\u001b[39m\\x01\u001b[39;00m\u001b[39m\\x30\u001b[39;00m\u001b[39m\\\"\u001b[39;00m\u001b[39m\\xb4\u001b[39;00m\u001b[39m\\x04\u001b[39;00m\u001b[39m\\n\u001b[39;00m\u001b[39m\\x06\u001b[39;00m\u001b[39mOpDesc\u001b[39m\u001b[39m\\x12\u001b[39;00m\u001b[39m\\x0c\u001b[39;00m\u001b[39m\\n\u001b[39;00m\u001b[39m\\x04\u001b[39;00m\u001b[39mtype\u001b[39m\u001b[39m\\x18\u001b[39;00m\u001b[39m\\x03\u001b[39;00m\u001b[39m \u001b[39m\u001b[39m\\x02\u001b[39;00m\u001b[39m(\u001b[39m\u001b[39m\\t\u001b[39;00m\u001b[39m\\x12\u001b[39;00m\u001b[39m\\x32\u001b[39;00m\u001b[39m\\n\u001b[39;00m\u001b[39m\\x06\u001b[39;00m\u001b[39minputs\u001b[39m\u001b[39m\\x18\u001b[39;00m\u001b[39m\\x01\u001b[39;00m\u001b[39m \u001b[39m\u001b[39m\\x03\u001b[39;00m\u001b[39m(\u001b[39m\u001b[39m\\x0b\u001b[39;00m\u001b[39m\\x32\u001b[39;00m\u001b[39m\\\"\u001b[39;00m\u001b[39m.paddle.framework.proto.OpDesc.Var\u001b[39m\u001b[39m\\x12\u001b[39;00m\u001b[39m\\x33\u001b[39;00m\u001b[39m\\n\u001b[39;00m\u001b[39m\\x07\u001b[39;00m\u001b[39moutputs\u001b[39m\u001b[39m\\x18\u001b[39;00m\u001b[39m\\x02\u001b[39;00m\u001b[39m \u001b[39m\u001b[39m\\x03\u001b[39;00m\u001b[39m(\u001b[39m\u001b[39m\\x0b\u001b[39;00m\u001b[39m\\x32\u001b[39;00m\u001b[39m\\\"\u001b[39;00m\u001b[39m.paddle.framework.proto.OpDesc.Var\u001b[39m\u001b[39m\\x12\u001b[39;00m\u001b[39m\\x32\u001b[39;00m\u001b[39m\\n\u001b[39;00m\u001b[39m\\x05\u001b[39;00m\u001b[39m\\x61\u001b[39;00m\u001b[39mttrs\u001b[39m\u001b[39m\\x18\u001b[39;00m\u001b[39m\\x04\u001b[39;00m\u001b[39m \u001b[39m\u001b[39m\\x03\u001b[39;00m\u001b[39m(\u001b[39m\u001b[39m\\x0b\u001b[39;00m\u001b[39m\\x32\u001b[39;00m\u001b[39m#.paddle.framework.proto.OpDesc.Attr\u001b[39m\u001b[39m\\x12\u001b[39;00m\u001b[39m\\x18\u001b[39;00m\u001b[39m\\n\u001b[39;00m\u001b[39m\\t\u001b[39;00m\u001b[39mis_target\u001b[39m\u001b[39m\\x18\u001b[39;00m\u001b[39m\\x05\u001b[39;00m\u001b[39m \u001b[39m\u001b[39m\\x01\u001b[39;00m\u001b[39m(\u001b[39m\u001b[39m\\x08\u001b[39;00m\u001b[39m:\u001b[39m\u001b[39m\\x05\u001b[39;00m\u001b[39m\\x66\u001b[39;00m\u001b[39m\\x61\u001b[39;00m\u001b[39mlse\u001b[39m\u001b[39m\\x1a\u001b[39;00m\u001b[39m\\xb7\u001b[39;00m\u001b[39m\\x02\u001b[39;00m\u001b[39m\\n\u001b[39;00m\u001b[39m\\x04\u001b[39;00m\u001b[39m\\x41\u001b[39;00m\u001b[39mttr\u001b[39m\u001b[39m\\x12\u001b[39;00m\u001b[39m\\x0c\u001b[39;00m\u001b[39m\\n\u001b[39;00m\u001b[39m\\x04\u001b[39;00m\u001b[39mname\u001b[39m\u001b[39m\\x18\u001b[39;00m\u001b[39m\\x01\u001b[39;00m\u001b[39m \u001b[39m\u001b[39m\\x02\u001b[39;00m\u001b[39m(\u001b[39m\u001b[39m\\t\u001b[39;00m\u001b[39m\\x12\u001b[39;00m\u001b[39m.\u001b[39m\u001b[39m\\n\u001b[39;00m\u001b[39m\\x04\u001b[39;00m\u001b[39mtype\u001b[39m\u001b[39m\\x18\u001b[39;00m\u001b[39m\\x02\u001b[39;00m\u001b[39m \u001b[39m\u001b[39m\\x02\u001b[39;00m\u001b[39m(\u001b[39m\u001b[39m\\x0e\u001b[39;00m\u001b[39m\\x32\u001b[39;00m\u001b[39m .paddle.framework.proto.AttrType\u001b[39m\u001b[39m\\x12\u001b[39;00m\u001b[39m\\t\u001b[39;00m\u001b[39m\\n\u001b[39;00m\u001b[39m\\x01\u001b[39;00m\u001b[39mi\u001b[39m\u001b[39m\\x18\u001b[39;00m\u001b[39m\\x03\u001b[39;00m\u001b[39m \u001b[39m\u001b[39m\\x01\u001b[39;00m\u001b[39m(\u001b[39m\u001b[39m\\x05\u001b[39;00m\u001b[39m\\x12\u001b[39;00m\u001b[39m\\t\u001b[39;00m\u001b[39m\\n\u001b[39;00m\u001b[39m\\x01\u001b[39;00m\u001b[39m\\x66\u001b[39;00m\u001b[39m\\x18\u001b[39;00m\u001b[39m\\x04\u001b[39;00m\u001b[39m \u001b[39m\u001b[39m\\x01\u001b[39;00m\u001b[39m(\u001b[39m\u001b[39m\\x02\u001b[39;00m\u001b[39m\\x12\u001b[39;00m\u001b[39m\\t\u001b[39;00m\u001b[39m\\n\u001b[39;00m\u001b[39m\\x01\u001b[39;00m\u001b[39ms\u001b[39m\u001b[39m\\x18\u001b[39;00m\u001b[39m\\x05\u001b[39;00m\u001b[39m \u001b[39m\u001b[39m\\x01\u001b[39;00m\u001b[39m(\u001b[39m\u001b[39m\\t\u001b[39;00m\u001b[39m\\x12\u001b[39;00m\u001b[39m\\x0c\u001b[39;00m\u001b[39m\\n\u001b[39;00m\u001b[39m\\x04\u001b[39;00m\u001b[39mints\u001b[39m\u001b[39m\\x18\u001b[39;00m\u001b[39m\\x06\u001b[39;00m\u001b[39m \u001b[39m\u001b[39m\\x03\u001b[39;00m\u001b[39m(\u001b[39m\u001b[39m\\x05\u001b[39;00m\u001b[39m\\x12\u001b[39;00m\u001b[39m\\x0e\u001b[39;00m\u001b[39m\\n\u001b[39;00m\u001b[39m\\x06\u001b[39;00m\u001b[39m\\x66\u001b[39;00m\u001b[39mloats\u001b[39m\u001b[39m\\x18\u001b[39;00m\u001b[39m\\x07\u001b[39;00m\u001b[39m \u001b[39m\u001b[39m\\x03\u001b[39;00m\u001b[39m(\u001b[39m\u001b[39m\\x02\u001b[39;00m\u001b[39m\\x12\u001b[39;00m\u001b[39m\\x0f\u001b[39;00m\u001b[39m\\n\u001b[39;00m\u001b[39m\\x07\u001b[39;00m\u001b[39mstrings\u001b[39m\u001b[39m\\x18\u001b[39;00m\u001b[39m\\x08\u001b[39;00m\u001b[39m \u001b[39m\u001b[39m\\x03\u001b[39;00m\u001b[39m(\u001b[39m\u001b[39m\\t\u001b[39;00m\u001b[39m\\x12\u001b[39;00m\u001b[39m\\t\u001b[39;00m\u001b[39m\\n\u001b[39;00m\u001b[39m\\x01\u001b[39;00m\u001b[39m\\x62\u001b[39;00m\u001b[39m\\x18\u001b[39;00m\u001b[39m\\n\u001b[39;00m\u001b[39m \u001b[39m\u001b[39m\\x01\u001b[39;00m\u001b[39m(\u001b[39m\u001b[39m\\x08\u001b[39;00m\u001b[39m\\x12\u001b[39;00m\u001b[39m\\r\u001b[39;00m\u001b[39m\\n\u001b[39;00m\u001b[39m\\x05\u001b[39;00m\u001b[39m\\x62\u001b[39;00m\u001b[39mools\u001b[39m\u001b[39m\\x18\u001b[39;00m\u001b[39m\\x0b\u001b[39;00m\u001b[39m \u001b[39m\u001b[39m\\x03\u001b[39;00m\u001b[39m(\u001b[39m\u001b[39m\\x08\u001b[39;00m\u001b[39m\\x12\u001b[39;00m\u001b[39m\\x11\u001b[39;00m\u001b[39m\\n\u001b[39;00m\u001b[39m\\t\u001b[39;00m\u001b[39mblock_idx\u001b[39m\u001b[39m\\x18\u001b[39;00m\u001b[39m\\x0c\u001b[39;00m\u001b[39m \u001b[39m\u001b[39m\\x01\u001b[39;00m\u001b[39m(\u001b[39m\u001b[39m\\x05\u001b[39;00m\u001b[39m\\x12\u001b[39;00m\u001b[39m\\t\u001b[39;00m\u001b[39m\\n\u001b[39;00m\u001b[39m\\x01\u001b[39;00m\u001b[39ml\u001b[39m\u001b[39m\\x18\u001b[39;00m\u001b[39m\\r\u001b[39;00m\u001b[39m \u001b[39m\u001b[39m\\x01\u001b[39;00m\u001b[39m(\u001b[39m\u001b[39m\\x03\u001b[39;00m\u001b[39m\\x12\u001b[39;00m\u001b[39m\\x12\u001b[39;00m\u001b[39m\\n\u001b[39;00m\u001b[39m\\n\u001b[39;00m\u001b[39mblocks_idx\u001b[39m\u001b[39m\\x18\u001b[39;00m\u001b[39m\\x0e\u001b[39;00m\u001b[39m \u001b[39m\u001b[39m\\x03\u001b[39;00m\u001b[39m(\u001b[39m\u001b[39m\\x05\u001b[39;00m\u001b[39m\\x12\u001b[39;00m\u001b[39m\\r\u001b[39;00m\u001b[39m\\n\u001b[39;00m\u001b[39m\\x05\u001b[39;00m\u001b[39mlongs\u001b[39m\u001b[39m\\x18\u001b[39;00m\u001b[39m\\x0f\u001b[39;00m\u001b[39m \u001b[39m\u001b[39m\\x03\u001b[39;00m\u001b[39m(\u001b[39m\u001b[39m\\x03\u001b[39;00m\u001b[39m\\x12\u001b[39;00m\u001b[39m\\x10\u001b[39;00m\u001b[39m\\n\u001b[39;00m\u001b[39m\\x08\u001b[39;00m\u001b[39m\\x66\u001b[39;00m\u001b[39mloat64s\u001b[39m\u001b[39m\\x18\u001b[39;00m\u001b[39m\\x10\u001b[39;00m\u001b[39m \u001b[39m\u001b[39m\\x03\u001b[39;00m\u001b[39m(\u001b[39m\u001b[39m\\x01\u001b[39;00m\u001b[39m\\x12\u001b[39;00m\u001b[39m\\x10\u001b[39;00m\u001b[39m\\n\u001b[39;00m\u001b[39m\\x08\u001b[39;00m\u001b[39mvar_name\u001b[39m\u001b[39m\\x18\u001b[39;00m\u001b[39m\\x11\u001b[39;00m\u001b[39m \u001b[39m\u001b[39m\\x01\u001b[39;00m\u001b[39m(\u001b[39m\u001b[39m\\t\u001b[39;00m\u001b[39m\\x12\u001b[39;00m\u001b[39m\\x11\u001b[39;00m\u001b[39m\\n\u001b[39;00m\u001b[39m\\t\u001b[39;00m\u001b[39mvars_name\u001b[39m\u001b[39m\\x18\u001b[39;00m\u001b[39m\\x12\u001b[39;00m\u001b[39m \u001b[39m\u001b[39m\\x03\u001b[39;00m\u001b[39m(\u001b[39m\u001b[39m\\t\u001b[39;00m\u001b[39m\\x12\u001b[39;00m\u001b[39m\\x0f\u001b[39;00m\u001b[39m\\n\u001b[39;00m\u001b[39m\\x07\u001b[39;00m\u001b[39m\\x66\u001b[39;00m\u001b[39mloat64\u001b[39m\u001b[39m\\x18\u001b[39;00m\u001b[39m\\x13\u001b[39;00m\u001b[39m \u001b[39m\u001b[39m\\x01\u001b[39;00m\u001b[39m(\u001b[39m\u001b[39m\\x01\u001b[39;00m\u001b[39m\\x1a\u001b[39;00m\u001b[39m+\u001b[39m\u001b[39m\\n\u001b[39;00m\u001b[39m\\x03\u001b[39;00m\u001b[39mVar\u001b[39m\u001b[39m\\x12\u001b[39;00m\u001b[39m\\x11\u001b[39;00m\u001b[39m\\n\u001b[39;00m\u001b[39m\\t\u001b[39;00m\u001b[39mparameter\u001b[39m\u001b[39m\\x18\u001b[39;00m\u001b[39m\\x01\u001b[39;00m\u001b[39m \u001b[39m\u001b[39m\\x02\u001b[39;00m\u001b[39m(\u001b[39m\u001b[39m\\t\u001b[39;00m\u001b[39m\\x12\u001b[39;00m\u001b[39m\\x11\u001b[39;00m\u001b[39m\\n\u001b[39;00m\u001b[39m\\t\u001b[39;00m\u001b[39marguments\u001b[39m\u001b[39m\\x18\u001b[39;00m\u001b[39m\\x02\u001b[39;00m\u001b[39m \u001b[39m\u001b[39m\\x03\u001b[39;00m\u001b[39m(\u001b[39m\u001b[39m\\t\u001b[39;00m\u001b[39m\\\"\u001b[39;00m\u001b[39m\\xac\u001b[39;00m\u001b[39m\\x04\u001b[39;00m\u001b[39m\\n\u001b[39;00m\u001b[39m\\x07\u001b[39;00m\u001b[39mOpProto\u001b[39m\u001b[39m\\x12\u001b[39;00m\u001b[39m\\x0c\u001b[39;00m\u001b[39m\\n\u001b[39;00m\u001b[39m\\x04\u001b[39;00m\u001b[39mtype\u001b[39m\u001b[39m\\x18\u001b[39;00m\u001b[39m\\x01\u001b[39;00m\u001b[39m \u001b[39m\u001b[39m\\x02\u001b[39;00m\u001b[39m(\u001b[39m\u001b[39m\\t\u001b[39;00m\u001b[39m\\x12\u001b[39;00m\u001b[39m\\x33\u001b[39;00m\u001b[39m\\n\u001b[39;00m\u001b[39m\\x06\u001b[39;00m\u001b[39minputs\u001b[39m\u001b[39m\\x18\u001b[39;00m\u001b[39m\\x02\u001b[39;00m\u001b[39m \u001b[39m\u001b[39m\\x03\u001b[39;00m\u001b[39m(\u001b[39m\u001b[39m\\x0b\u001b[39;00m\u001b[39m\\x32\u001b[39;00m\u001b[39m#.paddle.framework.proto.OpProto.Var\u001b[39m\u001b[39m\\x12\u001b[39;00m\u001b[39m\\x34\u001b[39;00m\u001b[39m\\n\u001b[39;00m\u001b[39m\\x07\u001b[39;00m\u001b[39moutputs\u001b[39m\u001b[39m\\x18\u001b[39;00m\u001b[39m\\x03\u001b[39;00m\u001b[39m \u001b[39m\u001b[39m\\x03\u001b[39;00m\u001b[39m(\u001b[39m\u001b[39m\\x0b\u001b[39;00m\u001b[39m\\x32\u001b[39;00m\u001b[39m#.paddle.framework.proto.OpProto.Var\u001b[39m\u001b[39m\\x12\u001b[39;00m\u001b[39m\\x33\u001b[39;00m\u001b[39m\\n\u001b[39;00m\u001b[39m\\x05\u001b[39;00m\u001b[39m\\x61\u001b[39;00m\u001b[39mttrs\u001b[39m\u001b[39m\\x18\u001b[39;00m\u001b[39m\\x04\u001b[39;00m\u001b[39m \u001b[39m\u001b[39m\\x03\u001b[39;00m\u001b[39m(\u001b[39m\u001b[39m\\x0b\u001b[39;00m\u001b[39m\\x32\u001b[39;00m\u001b[39m$.paddle.framework.proto.OpProto.Attr\u001b[39m\u001b[39m\\x12\u001b[39;00m\u001b[39m\\x0f\u001b[39;00m\u001b[39m\\n\u001b[39;00m\u001b[39m\\x07\u001b[39;00m\u001b[39m\\x63\u001b[39;00m\u001b[39momment\u001b[39m\u001b[39m\\x18\u001b[39;00m\u001b[39m\\x05\u001b[39;00m\u001b[39m \u001b[39m\u001b[39m\\x02\u001b[39;00m\u001b[39m(\u001b[39m\u001b[39m\\t\u001b[39;00m\u001b[39m\\x1a\u001b[39;00m\u001b[39m\\xa4\u001b[39;00m\u001b[39m\\x01\u001b[39;00m\u001b[39m\\n\u001b[39;00m\u001b[39m\\x03\u001b[39;00m\u001b[39mVar\u001b[39m\u001b[39m\\x12\u001b[39;00m\u001b[39m\\x0c\u001b[39;00m\u001b[39m\\n\u001b[39;00m\u001b[39m\\x04\u001b[39;00m\u001b[39mname\u001b[39m\u001b[39m\\x18\u001b[39;00m\u001b[39m\\x01\u001b[39;00m\u001b[39m \u001b[39m\u001b[39m\\x02\u001b[39;00m\u001b[39m(\u001b[39m\u001b[39m\\t\u001b[39;00m\u001b[39m\\x12\u001b[39;00m\u001b[39m\\x0f\u001b[39;00m\u001b[39m\\n\u001b[39;00m\u001b[39m\\x07\u001b[39;00m\u001b[39m\\x63\u001b[39;00m\u001b[39momment\u001b[39m\u001b[39m\\x18\u001b[39;00m\u001b[39m\\x02\u001b[39;00m\u001b[39m \u001b[39m\u001b[39m\\x02\u001b[39;00m\u001b[39m(\u001b[39m\u001b[39m\\t\u001b[39;00m\u001b[39m\\x12\u001b[39;00m\u001b[39m\\x19\u001b[39;00m\u001b[39m\\n\u001b[39;00m\u001b[39m\\n\u001b[39;00m\u001b[39mduplicable\u001b[39m\u001b[39m\\x18\u001b[39;00m\u001b[39m\\x03\u001b[39;00m\u001b[39m \u001b[39m\u001b[39m\\x01\u001b[39;00m\u001b[39m(\u001b[39m\u001b[39m\\x08\u001b[39;00m\u001b[39m:\u001b[39m\u001b[39m\\x05\u001b[39;00m\u001b[39m\\x66\u001b[39;00m\u001b[39m\\x61\u001b[39;00m\u001b[39mlse\u001b[39m\u001b[39m\\x12\u001b[39;00m\u001b[39m\\x1b\u001b[39;00m\u001b[39m\\n\u001b[39;00m\u001b[39m\\x0c\u001b[39;00m\u001b[39mintermediate\u001b[39m\u001b[39m\\x18\u001b[39;00m\u001b[39m\\x04\u001b[39;00m\u001b[39m \u001b[39m\u001b[39m\\x01\u001b[39;00m\u001b[39m(\u001b[39m\u001b[39m\\x08\u001b[39;00m\u001b[39m:\u001b[39m\u001b[39m\\x05\u001b[39;00m\u001b[39m\\x66\u001b[39;00m\u001b[39m\\x61\u001b[39;00m\u001b[39mlse\u001b[39m\u001b[39m\\x12\u001b[39;00m\u001b[39m\\x1a\u001b[39;00m\u001b[39m\\n\u001b[39;00m\u001b[39m\\x0b\u001b[39;00m\u001b[39m\\x64\u001b[39;00m\u001b[39mispensable\u001b[39m\u001b[39m\\x18\u001b[39;00m\u001b[39m\\x05\u001b[39;00m\u001b[39m \u001b[39m\u001b[39m\\x01\u001b[39;00m\u001b[39m(\u001b[39m\u001b[39m\\x08\u001b[39;00m\u001b[39m:\u001b[39m\u001b[39m\\x05\u001b[39;00m\u001b[39m\\x66\u001b[39;00m\u001b[39m\\x61\u001b[39;00m\u001b[39mlse\u001b[39m\u001b[39m\\x12\u001b[39;00m\u001b[39m\\x14\u001b[39;00m\u001b[39m\\n\u001b[39;00m\u001b[39m\\x05\u001b[39;00m\u001b[39m\\x65\u001b[39;00m\u001b[39mxtra\u001b[39m\u001b[39m\\x18\u001b[39;00m\u001b[39m\\x06\u001b[39;00m\u001b[39m \u001b[39m\u001b[39m\\x01\u001b[39;00m\u001b[39m(\u001b[39m\u001b[39m\\x08\u001b[39;00m\u001b[39m:\u001b[39m\u001b[39m\\x05\u001b[39;00m\u001b[39m\\x66\u001b[39;00m\u001b[39m\\x61\u001b[39;00m\u001b[39mlse\u001b[39m\u001b[39m\\x12\u001b[39;00m\u001b[39m\\x14\u001b[39;00m\u001b[39m\\n\u001b[39;00m\u001b[39m\\x05\u001b[39;00m\u001b[39mquant\u001b[39m\u001b[39m\\x18\u001b[39;00m\u001b[39m\\x07\u001b[39;00m\u001b[39m \u001b[39m\u001b[39m\\x01\u001b[39;00m\u001b[39m(\u001b[39m\u001b[39m\\x08\u001b[39;00m\u001b[39m:\u001b[39m\u001b[39m\\x05\u001b[39;00m\u001b[39m\\x66\u001b[39;00m\u001b[39m\\x61\u001b[39;00m\u001b[39mlse\u001b[39m\u001b[39m\\x1a\u001b[39;00m\u001b[39m\\xba\u001b[39;00m\u001b[39m\\x01\u001b[39;00m\u001b[39m\\n\u001b[39;00m\u001b[39m\\x04\u001b[39;00m\u001b[39m\\x41\u001b[39;00m\u001b[39mttr\u001b[39m\u001b[39m\\x12\u001b[39;00m\u001b[39m\\x0c\u001b[39;00m\u001b[39m\\n\u001b[39;00m\u001b[39m\\x04\u001b[39;00m\u001b[39mname\u001b[39m\u001b[39m\\x18\u001b[39;00m\u001b[39m\\x01\u001b[39;00m\u001b[39m \u001b[39m\u001b[39m\\x02\u001b[39;00m\u001b[39m(\u001b[39m\u001b[39m\\t\u001b[39;00m\u001b[39m\\x12\u001b[39;00m\u001b[39m.\u001b[39m\u001b[39m\\n\u001b[39;00m\u001b[39m\\x04\u001b[39;00m\u001b[39mtype\u001b[39m\u001b[39m\\x18\u001b[39;00m\u001b[39m\\x02\u001b[39;00m\u001b[39m \u001b[39m\u001b[39m\\x02\u001b[39;00m\u001b[39m(\u001b[39m\u001b[39m\\x0e\u001b[39;00m\u001b[39m\\x32\u001b[39;00m\u001b[39m .paddle.framework.proto.AttrType\u001b[39m\u001b[39m\\x12\u001b[39;00m\u001b[39m\\x0f\u001b[39;00m\u001b[39m\\n\u001b[39;00m\u001b[39m\\x07\u001b[39;00m\u001b[39m\\x63\u001b[39;00m\u001b[39momment\u001b[39m\u001b[39m\\x18\u001b[39;00m\u001b[39m\\x03\u001b[39;00m\u001b[39m \u001b[39m\u001b[39m\\x02\u001b[39;00m\u001b[39m(\u001b[39m\u001b[39m\\t\u001b[39;00m\u001b[39m\\x12\u001b[39;00m\u001b[39m\\x18\u001b[39;00m\u001b[39m\\n\u001b[39;00m\u001b[39m\\t\u001b[39;00m\u001b[39mgenerated\u001b[39m\u001b[39m\\x18\u001b[39;00m\u001b[39m\\x04\u001b[39;00m\u001b[39m \u001b[39m\u001b[39m\\x01\u001b[39;00m\u001b[39m(\u001b[39m\u001b[39m\\x08\u001b[39;00m\u001b[39m:\u001b[39m\u001b[39m\\x05\u001b[39;00m\u001b[39m\\x66\u001b[39;00m\u001b[39m\\x61\u001b[39;00m\u001b[39mlse\u001b[39m\u001b[39m\\x12\u001b[39;00m\u001b[39m\\x14\u001b[39;00m\u001b[39m\\n\u001b[39;00m\u001b[39m\\x05\u001b[39;00m\u001b[39m\\x65\u001b[39;00m\u001b[39mxtra\u001b[39m\u001b[39m\\x18\u001b[39;00m\u001b[39m\\x05\u001b[39;00m\u001b[39m \u001b[39m\u001b[39m\\x01\u001b[39;00m\u001b[39m(\u001b[39m\u001b[39m\\x08\u001b[39;00m\u001b[39m:\u001b[39m\u001b[39m\\x05\u001b[39;00m\u001b[39m\\x66\u001b[39;00m\u001b[39m\\x61\u001b[39;00m\u001b[39mlse\u001b[39m\u001b[39m\\x12\u001b[39;00m\u001b[39m\\x14\u001b[39;00m\u001b[39m\\n\u001b[39;00m\u001b[39m\\x05\u001b[39;00m\u001b[39mquant\u001b[39m\u001b[39m\\x18\u001b[39;00m\u001b[39m\\x06\u001b[39;00m\u001b[39m \u001b[39m\u001b[39m\\x01\u001b[39;00m\u001b[39m(\u001b[39m\u001b[39m\\x08\u001b[39;00m\u001b[39m:\u001b[39m\u001b[39m\\x05\u001b[39;00m\u001b[39m\\x66\u001b[39;00m\u001b[39m\\x61\u001b[39;00m\u001b[39mlse\u001b[39m\u001b[39m\\x12\u001b[39;00m\u001b[39m\\x1d\u001b[39;00m\u001b[39m\\n\u001b[39;00m\u001b[39m\\x0e\u001b[39;00m\u001b[39msupport_tensor\u001b[39m\u001b[39m\\x18\u001b[39;00m\u001b[39m\\x07\u001b[39;00m\u001b[39m \u001b[39m\u001b[39m\\x01\u001b[39;00m\u001b[39m(\u001b[39m\u001b[39m\\x08\u001b[39;00m\u001b[39m:\u001b[39m\u001b[39m\\x05\u001b[39;00m\u001b[39m\\x66\u001b[39;00m\u001b[39m\\x61\u001b[39;00m\u001b[39mlse\u001b[39m\u001b[39m\\\"\u001b[39;00m\u001b[39m\\x97\u001b[39;00m\u001b[39m\\x0c\u001b[39;00m\u001b[39m\\n\u001b[39;00m\u001b[39m\\x07\u001b[39;00m\u001b[39mVarType\u001b[39m\u001b[39m\\x12\u001b[39;00m\u001b[39m\\x32\u001b[39;00m\u001b[39m\\n\u001b[39;00m\u001b[39m\\x04\u001b[39;00m\u001b[39mtype\u001b[39m\u001b[39m\\x18\u001b[39;00m\u001b[39m\\x01\u001b[39;00m\u001b[39m \u001b[39m\u001b[39m\\x02\u001b[39;00m\u001b[39m(\u001b[39m\u001b[39m\\x0e\u001b[39;00m\u001b[39m\\x32\u001b[39;00m\u001b[39m$.paddle.framework.proto.VarType.Type\u001b[39m\u001b[39m\\x12\u001b[39;00m\u001b[39m\\x41\u001b[39;00m\u001b[39m\\n\u001b[39;00m\u001b[39m\\r\u001b[39;00m\u001b[39mselected_rows\u001b[39m\u001b[39m\\x18\u001b[39;00m\u001b[39m\\x02\u001b[39;00m\u001b[39m \u001b[39m\u001b[39m\\x01\u001b[39;00m\u001b[39m(\u001b[39m\u001b[39m\\x0b\u001b[39;00m\u001b[39m\\x32\u001b[39;00m\u001b[39m*.paddle.framework.proto.VarType.TensorDesc\u001b[39m\u001b[39m\\x12\u001b[39;00m\u001b[39m\\x41\u001b[39;00m\u001b[39m\\n\u001b[39;00m\u001b[39m\\n\u001b[39;00m\u001b[39mlod_tensor\u001b[39m\u001b[39m\\x18\u001b[39;00m\u001b[39m\\x03\u001b[39;00m\u001b[39m \u001b[39m\u001b[39m\\x01\u001b[39;00m\u001b[39m(\u001b[39m\u001b[39m\\x0b\u001b[39;00m\u001b[39m\\x32\u001b[39;00m\u001b[39m-.paddle.framework.proto.VarType.LoDTensorDesc\u001b[39m\u001b[39m\\x12\u001b[39;00m\u001b[39mH\u001b[39m\u001b[39m\\n\u001b[39;00m\u001b[39m\\x0c\u001b[39;00m\u001b[39mtensor_array\u001b[39m\u001b[39m\\x18\u001b[39;00m\u001b[39m\\x04\u001b[39;00m\u001b[39m \u001b[39m\u001b[39m\\x01\u001b[39;00m\u001b[39m(\u001b[39m\u001b[39m\\x0b\u001b[39;00m\u001b[39m\\x32\u001b[39;00m\u001b[39m\\x32\u001b[39;00m\u001b[39m.paddle.framework.proto.VarType.LoDTensorArrayDesc\u001b[39m\u001b[39m\\x12\u001b[39;00m\u001b[39m:\u001b[39m\u001b[39m\\n\u001b[39;00m\u001b[39m\\x06\u001b[39;00m\u001b[39mreader\u001b[39m\u001b[39m\\x18\u001b[39;00m\u001b[39m\\x05\u001b[39;00m\u001b[39m \u001b[39m\u001b[39m\\x01\u001b[39;00m\u001b[39m(\u001b[39m\u001b[39m\\x0b\u001b[39;00m\u001b[39m\\x32\u001b[39;00m\u001b[39m*.paddle.framework.proto.VarType.ReaderDesc\u001b[39m\u001b[39m\\x12\u001b[39;00m\u001b[39m\\x34\u001b[39;00m\u001b[39m\\n\u001b[39;00m\u001b[39m\\x05\u001b[39;00m\u001b[39mtuple\u001b[39m\u001b[39m\\x18\u001b[39;00m\u001b[39m\\x07\u001b[39;00m\u001b[39m \u001b[39m\u001b[39m\\x01\u001b[39;00m\u001b[39m(\u001b[39m\u001b[39m\\x0b\u001b[39;00m\u001b[39m\\x32\u001b[39;00m\u001b[39m%\u001b[39m\u001b[39m.paddle.framework.proto.VarType.Tuple\u001b[39m\u001b[39m\\x12\u001b[39;00m\u001b[39m:\u001b[39m\u001b[39m\\n\u001b[39;00m\u001b[39m\\x06\u001b[39;00m\u001b[39mstring\u001b[39m\u001b[39m\\x18\u001b[39;00m\u001b[39m\\x08\u001b[39;00m\u001b[39m \u001b[39m\u001b[39m\\x01\u001b[39;00m\u001b[39m(\u001b[39m\u001b[39m\\x0b\u001b[39;00m\u001b[39m\\x32\u001b[39;00m\u001b[39m*.paddle.framework.proto.VarType.TensorDesc\u001b[39m\u001b[39m\\x12\u001b[39;00m\u001b[39m;\u001b[39m\u001b[39m\\n\u001b[39;00m\u001b[39m\\x07\u001b[39;00m\u001b[39mstrings\u001b[39m\u001b[39m\\x18\u001b[39;00m\u001b[39m\\t\u001b[39;00m\u001b[39m \u001b[39m\u001b[39m\\x01\u001b[39;00m\u001b[39m(\u001b[39m\u001b[39m\\x0b\u001b[39;00m\u001b[39m\\x32\u001b[39;00m\u001b[39m*.paddle.framework.proto.VarType.TensorDesc\u001b[39m\u001b[39m\\x12\u001b[39;00m\u001b[39m\\x39\u001b[39;00m\u001b[39m\\n\u001b[39;00m\u001b[39m\\x05\u001b[39;00m\u001b[39mvocab\u001b[39m\u001b[39m\\x18\u001b[39;00m\u001b[39m\\n\u001b[39;00m\u001b[39m \u001b[39m\u001b[39m\\x01\u001b[39;00m\u001b[39m(\u001b[39m\u001b[39m\\x0b\u001b[39;00m\u001b[39m\\x32\u001b[39;00m\u001b[39m*.paddle.framework.proto.VarType.TensorDesc\u001b[39m\u001b[39m\\x12\u001b[39;00m\u001b[39m>\u001b[39m\u001b[39m\\n\u001b[39;00m\u001b[39m\\n\u001b[39;00m\u001b[39msparse_coo\u001b[39m\u001b[39m\\x18\u001b[39;00m\u001b[39m\\x0b\u001b[39;00m\u001b[39m \u001b[39m\u001b[39m\\x01\u001b[39;00m\u001b[39m(\u001b[39m\u001b[39m\\x0b\u001b[39;00m\u001b[39m\\x32\u001b[39;00m\u001b[39m*.paddle.framework.proto.VarType.TensorDesc\u001b[39m\u001b[39m\\x12\u001b[39;00m\u001b[39m>\u001b[39m\u001b[39m\\n\u001b[39;00m\u001b[39m\\n\u001b[39;00m\u001b[39msparse_csr\u001b[39m\u001b[39m\\x18\u001b[39;00m\u001b[39m\\x0c\u001b[39;00m\u001b[39m \u001b[39m\u001b[39m\\x01\u001b[39;00m\u001b[39m(\u001b[39m\u001b[39m\\x0b\u001b[39;00m\u001b[39m\\x32\u001b[39;00m\u001b[39m*.paddle.framework.proto.VarType.TensorDesc\u001b[39m\u001b[39m\\x1a\u001b[39;00m\u001b[39mS\u001b[39m\u001b[39m\\n\u001b[39;00m\u001b[39m\\n\u001b[39;00m\u001b[39mTensorDesc\u001b[39m\u001b[39m\\x12\u001b[39;00m\u001b[39m\\x37\u001b[39;00m\u001b[39m\\n\u001b[39;00m\u001b[39m\\t\u001b[39;00m\u001b[39mdata_type\u001b[39m\u001b[39m\\x18\u001b[39;00m\u001b[39m\\x01\u001b[39;00m\u001b[39m \u001b[39m\u001b[39m\\x02\u001b[39;00m\u001b[39m(\u001b[39m\u001b[39m\\x0e\u001b[39;00m\u001b[39m\\x32\u001b[39;00m\u001b[39m$.paddle.framework.proto.VarType.Type\u001b[39m\u001b[39m\\x12\u001b[39;00m\u001b[39m\\x0c\u001b[39;00m\u001b[39m\\n\u001b[39;00m\u001b[39m\\x04\u001b[39;00m\u001b[39m\\x64\u001b[39;00m\u001b[39mims\u001b[39m\u001b[39m\\x18\u001b[39;00m\u001b[39m\\x02\u001b[39;00m\u001b[39m \u001b[39m\u001b[39m\\x03\u001b[39;00m\u001b[39m(\u001b[39m\u001b[39m\\x03\u001b[39;00m\u001b[39m\\x1a\u001b[39;00m\u001b[39m\\x61\u001b[39;00m\u001b[39m\\n\u001b[39;00m\u001b[39m\\r\u001b[39;00m\u001b[39mLoDTensorDesc\u001b[39m\u001b[39m\\x12\u001b[39;00m\u001b[39m:\u001b[39m\u001b[39m\\n\u001b[39;00m\u001b[39m\\x06\u001b[39;00m\u001b[39mtensor\u001b[39m\u001b[39m\\x18\u001b[39;00m\u001b[39m\\x01\u001b[39;00m\u001b[39m \u001b[39m\u001b[39m\\x02\u001b[39;00m\u001b[39m(\u001b[39m\u001b[39m\\x0b\u001b[39;00m\u001b[39m\\x32\u001b[39;00m\u001b[39m*.paddle.framework.proto.VarType.TensorDesc\u001b[39m\u001b[39m\\x12\u001b[39;00m\u001b[39m\\x14\u001b[39;00m\u001b[39m\\n\u001b[39;00m\u001b[39m\\t\u001b[39;00m\u001b[39mlod_level\u001b[39m\u001b[39m\\x18\u001b[39;00m\u001b[39m\\x02\u001b[39;00m\u001b[39m \u001b[39m\u001b[39m\\x01\u001b[39;00m\u001b[39m(\u001b[39m\u001b[39m\\x05\u001b[39;00m\u001b[39m:\u001b[39m\u001b[39m\\x01\u001b[39;00m\u001b[39m\\x30\u001b[39;00m\u001b[39m\\x1a\u001b[39;00m\u001b[39m\\x66\u001b[39;00m\u001b[39m\\n\u001b[39;00m\u001b[39m\\x12\u001b[39;00m\u001b[39mLoDTensorArrayDesc\u001b[39m\u001b[39m\\x12\u001b[39;00m\u001b[39m:\u001b[39m\u001b[39m\\n\u001b[39;00m\u001b[39m\\x06\u001b[39;00m\u001b[39mtensor\u001b[39m\u001b[39m\\x18\u001b[39;00m\u001b[39m\\x01\u001b[39;00m\u001b[39m \u001b[39m\u001b[39m\\x02\u001b[39;00m\u001b[39m(\u001b[39m\u001b[39m\\x0b\u001b[39;00m\u001b[39m\\x32\u001b[39;00m\u001b[39m*.paddle.framework.proto.VarType.TensorDesc\u001b[39m\u001b[39m\\x12\u001b[39;00m\u001b[39m\\x14\u001b[39;00m\u001b[39m\\n\u001b[39;00m\u001b[39m\\t\u001b[39;00m\u001b[39mlod_level\u001b[39m\u001b[39m\\x18\u001b[39;00m\u001b[39m\\x02\u001b[39;00m\u001b[39m \u001b[39m\u001b[39m\\x01\u001b[39;00m\u001b[39m(\u001b[39m\u001b[39m\\x05\u001b[39;00m\u001b[39m:\u001b[39m\u001b[39m\\x01\u001b[39;00m\u001b[39m\\x30\u001b[39;00m\u001b[39m\\x1a\u001b[39;00m\u001b[39mO\u001b[39m\u001b[39m\\n\u001b[39;00m\u001b[39m\\n\u001b[39;00m\u001b[39mReaderDesc\u001b[39m\u001b[39m\\x12\u001b[39;00m\u001b[39m\\x41\u001b[39;00m\u001b[39m\\n\u001b[39;00m\u001b[39m\\n\u001b[39;00m\u001b[39mlod_tensor\u001b[39m\u001b[39m\\x18\u001b[39;00m\u001b[39m\\x01\u001b[39;00m\u001b[39m \u001b[39m\u001b[39m\\x03\u001b[39;00m\u001b[39m(\u001b[39m\u001b[39m\\x0b\u001b[39;00m\u001b[39m\\x32\u001b[39;00m\u001b[39m-.paddle.framework.proto.VarType.LoDTensorDesc\u001b[39m\u001b[39m\\x1a\u001b[39;00m\u001b[39m\\x43\u001b[39;00m\u001b[39m\\n\u001b[39;00m\u001b[39m\\x05\u001b[39;00m\u001b[39mTuple\u001b[39m\u001b[39m\\x12\u001b[39;00m\u001b[39m:\u001b[39m\u001b[39m\\n\u001b[39;00m\u001b[39m\\x0c\u001b[39;00m\u001b[39m\\x65\u001b[39;00m\u001b[39mlement_type\u001b[39m\u001b[39m\\x18\u001b[39;00m\u001b[39m\\x01\u001b[39;00m\u001b[39m \u001b[39m\u001b[39m\\x03\u001b[39;00m\u001b[39m(\u001b[39m\u001b[39m\\x0e\u001b[39;00m\u001b[39m\\x32\u001b[39;00m\u001b[39m$.paddle.framework.proto.VarType.Type\u001b[39m\u001b[39m\\\"\u001b[39;00m\u001b[39m\\xab\u001b[39;00m\u001b[39m\\x03\u001b[39;00m\u001b[39m\\n\u001b[39;00m\u001b[39m\\x04\u001b[39;00m\u001b[39mType\u001b[39m\u001b[39m\\x12\u001b[39;00m\u001b[39m\\x08\u001b[39;00m\u001b[39m\\n\u001b[39;00m\u001b[39m\\x04\u001b[39;00m\u001b[39m\\x42\u001b[39;00m\u001b[39mOOL\u001b[39m\u001b[39m\\x10\u001b[39;00m\u001b[39m\\x00\u001b[39;00m\u001b[39m\\x12\u001b[39;00m\u001b[39m\\t\u001b[39;00m\u001b[39m\\n\u001b[39;00m\u001b[39m\\x05\u001b[39;00m\u001b[39mINT16\u001b[39m\u001b[39m\\x10\u001b[39;00m\u001b[39m\\x01\u001b[39;00m\u001b[39m\\x12\u001b[39;00m\u001b[39m\\t\u001b[39;00m\u001b[39m\\n\u001b[39;00m\u001b[39m\\x05\u001b[39;00m\u001b[39mINT32\u001b[39m\u001b[39m\\x10\u001b[39;00m\u001b[39m\\x02\u001b[39;00m\u001b[39m\\x12\u001b[39;00m\u001b[39m\\t\u001b[39;00m\u001b[39m\\n\u001b[39;00m\u001b[39m\\x05\u001b[39;00m\u001b[39mINT64\u001b[39m\u001b[39m\\x10\u001b[39;00m\u001b[39m\\x03\u001b[39;00m\u001b[39m\\x12\u001b[39;00m\u001b[39m\\x08\u001b[39;00m\u001b[39m\\n\u001b[39;00m\u001b[39m\\x04\u001b[39;00m\u001b[39m\\x46\u001b[39;00m\u001b[39mP16\u001b[39m\u001b[39m\\x10\u001b[39;00m\u001b[39m\\x04\u001b[39;00m\u001b[39m\\x12\u001b[39;00m\u001b[39m\\x08\u001b[39;00m\u001b[39m\\n\u001b[39;00m\u001b[39m\\x04\u001b[39;00m\u001b[39m\\x46\u001b[39;00m\u001b[39mP32\u001b[39m\u001b[39m\\x10\u001b[39;00m\u001b[39m\\x05\u001b[39;00m\u001b[39m\\x12\u001b[39;00m\u001b[39m\\x08\u001b[39;00m\u001b[39m\\n\u001b[39;00m\u001b[39m\\x04\u001b[39;00m\u001b[39m\\x46\u001b[39;00m\u001b[39mP64\u001b[39m\u001b[39m\\x10\u001b[39;00m\u001b[39m\\x06\u001b[39;00m\u001b[39m\\x12\u001b[39;00m\u001b[39m\\n\u001b[39;00m\u001b[39m\\n\u001b[39;00m\u001b[39m\\x06\u001b[39;00m\u001b[39mSIZE_T\u001b[39m\u001b[39m\\x10\u001b[39;00m\u001b[39m\\x13\u001b[39;00m\u001b[39m\\x12\u001b[39;00m\u001b[39m\\t\u001b[39;00m\u001b[39m\\n\u001b[39;00m\u001b[39m\\x05\u001b[39;00m\u001b[39mUINT8\u001b[39m\u001b[39m\\x10\u001b[39;00m\u001b[39m\\x14\u001b[39;00m\u001b[39m\\x12\u001b[39;00m\u001b[39m\\x08\u001b[39;00m\u001b[39m\\n\u001b[39;00m\u001b[39m\\x04\u001b[39;00m\u001b[39mINT8\u001b[39m\u001b[39m\\x10\u001b[39;00m\u001b[39m\\x15\u001b[39;00m\u001b[39m\\x12\u001b[39;00m\u001b[39m\\x08\u001b[39;00m\u001b[39m\\n\u001b[39;00m\u001b[39m\\x04\u001b[39;00m\u001b[39m\\x42\u001b[39;00m\u001b[39m\\x46\u001b[39;00m\u001b[39m\\x31\u001b[39;00m\u001b[39m\\x36\u001b[39;00m\u001b[39m\\x10\u001b[39;00m\u001b[39m\\x16\u001b[39;00m\u001b[39m\\x12\u001b[39;00m\u001b[39m\\r\u001b[39;00m\u001b[39m\\n\u001b[39;00m\u001b[39m\\t\u001b[39;00m\u001b[39mCOMPLEX64\u001b[39m\u001b[39m\\x10\u001b[39;00m\u001b[39m\\x17\u001b[39;00m\u001b[39m\\x12\u001b[39;00m\u001b[39m\\x0e\u001b[39;00m\u001b[39m\\n\u001b[39;00m\u001b[39m\\n\u001b[39;00m\u001b[39mCOMPLEX128\u001b[39m\u001b[39m\\x10\u001b[39;00m\u001b[39m\\x18\u001b[39;00m\u001b[39m\\x12\u001b[39;00m\u001b[39m\\x0e\u001b[39;00m\u001b[39m\\n\u001b[39;00m\u001b[39m\\n\u001b[39;00m\u001b[39mLOD_TENSOR\u001b[39m\u001b[39m\\x10\u001b[39;00m\u001b[39m\\x07\u001b[39;00m\u001b[39m\\x12\u001b[39;00m\u001b[39m\\x11\u001b[39;00m\u001b[39m\\n\u001b[39;00m\u001b[39m\\r\u001b[39;00m\u001b[39mSELECTED_ROWS\u001b[39m\u001b[39m\\x10\u001b[39;00m\u001b[39m\\x08\u001b[39;00m\u001b[39m\\x12\u001b[39;00m\u001b[39m\\x12\u001b[39;00m\u001b[39m\\n\u001b[39;00m\u001b[39m\\x0e\u001b[39;00m\u001b[39m\\x46\u001b[39;00m\u001b[39m\\x45\u001b[39;00m\u001b[39m\\x45\u001b[39;00m\u001b[39m\\x44\u001b[39;00m\u001b[39m_MINIBATCH\u001b[39m\u001b[39m\\x10\u001b[39;00m\u001b[39m\\t\u001b[39;00m\u001b[39m\\x12\u001b[39;00m\u001b[39m\\x0e\u001b[39;00m\u001b[39m\\n\u001b[39;00m\u001b[39m\\n\u001b[39;00m\u001b[39mFETCH_LIST\u001b[39m\u001b[39m\\x10\u001b[39;00m\u001b[39m\\n\u001b[39;00m\u001b[39m\\x12\u001b[39;00m\u001b[39m\\x0f\u001b[39;00m\u001b[39m\\n\u001b[39;00m\u001b[39m\\x0b\u001b[39;00m\u001b[39mSTEP_SCOPES\u001b[39m\u001b[39m\\x10\u001b[39;00m\u001b[39m\\x0b\u001b[39;00m\u001b[39m\\x12\u001b[39;00m\u001b[39m\\x12\u001b[39;00m\u001b[39m\\n\u001b[39;00m\u001b[39m\\x0e\u001b[39;00m\u001b[39mLOD_RANK_TABLE\u001b[39m\u001b[39m\\x10\u001b[39;00m\u001b[39m\\x0c\u001b[39;00m\u001b[39m\\x12\u001b[39;00m\u001b[39m\\x14\u001b[39;00m\u001b[39m\\n\u001b[39;00m\u001b[39m\\x10\u001b[39;00m\u001b[39mLOD_TENSOR_ARRAY\u001b[39m\u001b[39m\\x10\u001b[39;00m\u001b[39m\\r\u001b[39;00m\u001b[39m\\x12\u001b[39;00m\u001b[39m\\x0e\u001b[39;00m\u001b[39m\\n\u001b[39;00m\u001b[39m\\n\u001b[39;00m\u001b[39mPLACE_LIST\u001b[39m\u001b[39m\\x10\u001b[39;00m\u001b[39m\\x0e\u001b[39;00m\u001b[39m\\x12\u001b[39;00m\u001b[39m\\n\u001b[39;00m\u001b[39m\\n\u001b[39;00m\u001b[39m\\x06\u001b[39;00m\u001b[39mREADER\u001b[39m\u001b[39m\\x10\u001b[39;00m\u001b[39m\\x0f\u001b[39;00m\u001b[39m\\x12\u001b[39;00m\u001b[39m\\x07\u001b[39;00m\u001b[39m\\n\u001b[39;00m\u001b[39m\\x03\u001b[39;00m\u001b[39mRAW\u001b[39m\u001b[39m\\x10\u001b[39;00m\u001b[39m\\x11\u001b[39;00m\u001b[39m\\x12\u001b[39;00m\u001b[39m\\t\u001b[39;00m\u001b[39m\\n\u001b[39;00m\u001b[39m\\x05\u001b[39;00m\u001b[39mTUPLE\u001b[39m\u001b[39m\\x10\u001b[39;00m\u001b[39m\\x12\u001b[39;00m\u001b[39m\\x12\u001b[39;00m\u001b[39m\\n\u001b[39;00m\u001b[39m\\n\u001b[39;00m\u001b[39m\\x06\u001b[39;00m\u001b[39mSTRING\u001b[39m\u001b[39m\\x10\u001b[39;00m\u001b[39m\\x19\u001b[39;00m\u001b[39m\\x12\u001b[39;00m\u001b[39m\\x0b\u001b[39;00m\u001b[39m\\n\u001b[39;00m\u001b[39m\\x07\u001b[39;00m\u001b[39mSTRINGS\u001b[39m\u001b[39m\\x10\u001b[39;00m\u001b[39m\\x1a\u001b[39;00m\u001b[39m\\x12\u001b[39;00m\u001b[39m\\t\u001b[39;00m\u001b[39m\\n\u001b[39;00m\u001b[39m\\x05\u001b[39;00m\u001b[39mVOCAB\u001b[39m\u001b[39m\\x10\u001b[39;00m\u001b[39m\\x1b\u001b[39;00m\u001b[39m\\x12\u001b[39;00m\u001b[39m\\r\u001b[39;00m\u001b[39m\\n\u001b[39;00m\u001b[39m\\t\u001b[39;00m\u001b[39mFEED_LIST\u001b[39m\u001b[39m\\x10\u001b[39;00m\u001b[39m\\x1c\u001b[39;00m\u001b[39m\\x12\u001b[39;00m\u001b[39m\\x0b\u001b[39;00m\u001b[39m\\n\u001b[39;00m\u001b[39m\\x07\u001b[39;00m\u001b[39mPSTRING\u001b[39m\u001b[39m\\x10\u001b[39;00m\u001b[39m\\x1d\u001b[39;00m\u001b[39m\\x12\u001b[39;00m\u001b[39m\\x0e\u001b[39;00m\u001b[39m\\n\u001b[39;00m\u001b[39m\\n\u001b[39;00m\u001b[39mSPARSE_COO\u001b[39m\u001b[39m\\x10\u001b[39;00m\u001b[39m\\x1e\u001b[39;00m\u001b[39m\\x12\u001b[39;00m\u001b[39m\\x0e\u001b[39;00m\u001b[39m\\n\u001b[39;00m\u001b[39m\\n\u001b[39;00m\u001b[39mSPARSE_CSR\u001b[39m\u001b[39m\\x10\u001b[39;00m\u001b[39m\\x1f\u001b[39;00m\u001b[39m\\\"\u001b[39;00m\u001b[39m\\xdc\u001b[39;00m\u001b[39m\\x02\u001b[39;00m\u001b[39m\\n\u001b[39;00m\u001b[39m\\x07\u001b[39;00m\u001b[39mVarDesc\u001b[39m\u001b[39m\\x12\u001b[39;00m\u001b[39m\\x0c\u001b[39;00m\u001b[39m\\n\u001b[39;00m\u001b[39m\\x04\u001b[39;00m\u001b[39mname\u001b[39m\u001b[39m\\x18\u001b[39;00m\u001b[39m\\x01\u001b[39;00m\u001b[39m \u001b[39m\u001b[39m\\x02\u001b[39;00m\u001b[39m(\u001b[39m\u001b[39m\\t\u001b[39;00m\u001b[39m\\x12\u001b[39;00m\u001b[39m-\u001b[39m\u001b[39m\\n\u001b[39;00m\u001b[39m\\x04\u001b[39;00m\u001b[39mtype\u001b[39m\u001b[39m\\x18\u001b[39;00m\u001b[39m\\x02\u001b[39;00m\u001b[39m \u001b[39m\u001b[39m\\x02\u001b[39;00m\u001b[39m(\u001b[39m\u001b[39m\\x0b\u001b[39;00m\u001b[39m\\x32\u001b[39;00m\u001b[39m\\x1f\u001b[39;00m\u001b[39m.paddle.framework.proto.VarType\u001b[39m\u001b[39m\\x12\u001b[39;00m\u001b[39m\\x1a\u001b[39;00m\u001b[39m\\n\u001b[39;00m\u001b[39m\\x0b\u001b[39;00m\u001b[39mpersistable\u001b[39m\u001b[39m\\x18\u001b[39;00m\u001b[39m\\x03\u001b[39;00m\u001b[39m \u001b[39m\u001b[39m\\x01\u001b[39;00m\u001b[39m(\u001b[39m\u001b[39m\\x08\u001b[39;00m\u001b[39m:\u001b[39m\u001b[39m\\x05\u001b[39;00m\u001b[39m\\x66\u001b[39;00m\u001b[39m\\x61\u001b[39;00m\u001b[39mlse\u001b[39m\u001b[39m\\x12\u001b[39;00m\u001b[39m\\x1e\u001b[39;00m\u001b[39m\\n\u001b[39;00m\u001b[39m\\x0f\u001b[39;00m\u001b[39mneed_check_feed\u001b[39m\u001b[39m\\x18\u001b[39;00m\u001b[39m\\x04\u001b[39;00m\u001b[39m \u001b[39m\u001b[39m\\x01\u001b[39;00m\u001b[39m(\u001b[39m\u001b[39m\\x08\u001b[39;00m\u001b[39m:\u001b[39m\u001b[39m\\x05\u001b[39;00m\u001b[39m\\x66\u001b[39;00m\u001b[39m\\x61\u001b[39;00m\u001b[39mlse\u001b[39m\u001b[39m\\x12\u001b[39;00m\u001b[39m\\x1b\u001b[39;00m\u001b[39m\\n\u001b[39;00m\u001b[39m\\x0c\u001b[39;00m\u001b[39mis_parameter\u001b[39m\u001b[39m\\x18\u001b[39;00m\u001b[39m\\x05\u001b[39;00m\u001b[39m \u001b[39m\u001b[39m\\x01\u001b[39;00m\u001b[39m(\u001b[39m\u001b[39m\\x08\u001b[39;00m\u001b[39m:\u001b[39m\u001b[39m\\x05\u001b[39;00m\u001b[39m\\x66\u001b[39;00m\u001b[39m\\x61\u001b[39;00m\u001b[39mlse\u001b[39m\u001b[39m\\x12\u001b[39;00m\u001b[39m\\x1c\u001b[39;00m\u001b[39m\\n\u001b[39;00m\u001b[39m\\r\u001b[39;00m\u001b[39mstop_gradient\u001b[39m\u001b[39m\\x18\u001b[39;00m\u001b[39m\\x06\u001b[39;00m\u001b[39m \u001b[39m\u001b[39m\\x01\u001b[39;00m\u001b[39m(\u001b[39m\u001b[39m\\x08\u001b[39;00m\u001b[39m:\u001b[39m\u001b[39m\\x05\u001b[39;00m\u001b[39m\\x66\u001b[39;00m\u001b[39m\\x61\u001b[39;00m\u001b[39mlse\u001b[39m\u001b[39m\\x12\u001b[39;00m\u001b[39m\\x33\u001b[39;00m\u001b[39m\\n\u001b[39;00m\u001b[39m\\x05\u001b[39;00m\u001b[39m\\x61\u001b[39;00m\u001b[39mttrs\u001b[39m\u001b[39m\\x18\u001b[39;00m\u001b[39m\\x07\u001b[39;00m\u001b[39m \u001b[39m\u001b[39m\\x03\u001b[39;00m\u001b[39m(\u001b[39m\u001b[39m\\x0b\u001b[39;00m\u001b[39m\\x32\u001b[39;00m\u001b[39m$.paddle.framework.proto.VarDesc.Attr\u001b[39m\u001b[39m\\x1a\u001b[39;00m\u001b[39mh\u001b[39m\u001b[39m\\n\u001b[39;00m\u001b[39m\\x04\u001b[39;00m\u001b[39m\\x41\u001b[39;00m\u001b[39mttr\u001b[39m\u001b[39m\\x12\u001b[39;00m\u001b[39m\\x0c\u001b[39;00m\u001b[39m\\n\u001b[39;00m\u001b[39m\\x04\u001b[39;00m\u001b[39mname\u001b[39m\u001b[39m\\x18\u001b[39;00m\u001b[39m\\x01\u001b[39;00m\u001b[39m \u001b[39m\u001b[39m\\x02\u001b[39;00m\u001b[39m(\u001b[39m\u001b[39m\\t\u001b[39;00m\u001b[39m\\x12\u001b[39;00m\u001b[39m.\u001b[39m\u001b[39m\\n\u001b[39;00m\u001b[39m\\x04\u001b[39;00m\u001b[39mtype\u001b[39m\u001b[39m\\x18\u001b[39;00m\u001b[39m\\x02\u001b[39;00m\u001b[39m \u001b[39m\u001b[39m\\x02\u001b[39;00m\u001b[39m(\u001b[39m\u001b[39m\\x0e\u001b[39;00m\u001b[39m\\x32\u001b[39;00m\u001b[39m .paddle.framework.proto.AttrType\u001b[39m\u001b[39m\\x12\u001b[39;00m\u001b[39m\\t\u001b[39;00m\u001b[39m\\n\u001b[39;00m\u001b[39m\\x01\u001b[39;00m\u001b[39mi\u001b[39m\u001b[39m\\x18\u001b[39;00m\u001b[39m\\x03\u001b[39;00m\u001b[39m \u001b[39m\u001b[39m\\x01\u001b[39;00m\u001b[39m(\u001b[39m\u001b[39m\\x05\u001b[39;00m\u001b[39m\\x12\u001b[39;00m\u001b[39m\\t\u001b[39;00m\u001b[39m\\n\u001b[39;00m\u001b[39m\\x01\u001b[39;00m\u001b[39ms\u001b[39m\u001b[39m\\x18\u001b[39;00m\u001b[39m\\x04\u001b[39;00m\u001b[39m \u001b[39m\u001b[39m\\x01\u001b[39;00m\u001b[39m(\u001b[39m\u001b[39m\\t\u001b[39;00m\u001b[39m\\x12\u001b[39;00m\u001b[39m\\x0c\u001b[39;00m\u001b[39m\\n\u001b[39;00m\u001b[39m\\x04\u001b[39;00m\u001b[39mints\u001b[39m\u001b[39m\\x18\u001b[39;00m\u001b[39m\\x05\u001b[39;00m\u001b[39m \u001b[39m\u001b[39m\\x03\u001b[39;00m\u001b[39m(\u001b[39m\u001b[39m\\x05\u001b[39;00m\u001b[39m\\\"\u001b[39;00m\u001b[39m\\xa7\u001b[39;00m\u001b[39m\\x01\u001b[39;00m\u001b[39m\\n\u001b[39;00m\u001b[39m\\t\u001b[39;00m\u001b[39mBlockDesc\u001b[39m\u001b[39m\\x12\u001b[39;00m\u001b[39m\\x0b\u001b[39;00m\u001b[39m\\n\u001b[39;00m\u001b[39m\\x03\u001b[39;00m\u001b[39midx\u001b[39m\u001b[39m\\x18\u001b[39;00m\u001b[39m\\x01\u001b[39;00m\u001b[39m \u001b[39m\u001b[39m\\x02\u001b[39;00m\u001b[39m(\u001b[39m\u001b[39m\\x05\u001b[39;00m\u001b[39m\\x12\u001b[39;00m\u001b[39m\\x12\u001b[39;00m\u001b[39m\\n\u001b[39;00m\u001b[39m\\n\u001b[39;00m\u001b[39mparent_idx\u001b[39m\u001b[39m\\x18\u001b[39;00m\u001b[39m\\x02\u001b[39;00m\u001b[39m \u001b[39m\u001b[39m\\x02\u001b[39;00m\u001b[39m(\u001b[39m\u001b[39m\\x05\u001b[39;00m\u001b[39m\\x12\u001b[39;00m\u001b[39m-\u001b[39m\u001b[39m\\n\u001b[39;00m\u001b[39m\\x04\u001b[39;00m\u001b[39mvars\u001b[39m\u001b[39m\\x18\u001b[39;00m\u001b[39m\\x03\u001b[39;00m\u001b[39m \u001b[39m\u001b[39m\\x03\u001b[39;00m\u001b[39m(\u001b[39m\u001b[39m\\x0b\u001b[39;00m\u001b[39m\\x32\u001b[39;00m\u001b[39m\\x1f\u001b[39;00m\u001b[39m.paddle.framework.proto.VarDesc\u001b[39m\u001b[39m\\x12\u001b[39;00m\u001b[39m+\u001b[39m\u001b[39m\\n\u001b[39;00m\u001b[39m\\x03\u001b[39;00m\u001b[39mops\u001b[39m\u001b[39m\\x18\u001b[39;00m\u001b[39m\\x04\u001b[39;00m\u001b[39m \u001b[39m\u001b[39m\\x03\u001b[39;00m\u001b[39m(\u001b[39m\u001b[39m\\x0b\u001b[39;00m\u001b[39m\\x32\u001b[39;00m\u001b[39m\\x1e\u001b[39;00m\u001b[39m.paddle.framework.proto.OpDesc\u001b[39m\u001b[39m\\x12\u001b[39;00m\u001b[39m\\x1d\u001b[39;00m\u001b[39m\\n\u001b[39;00m\u001b[39m\\x11\u001b[39;00m\u001b[39m\\x66\u001b[39;00m\u001b[39morward_block_idx\u001b[39m\u001b[39m\\x18\u001b[39;00m\u001b[39m\\x05\u001b[39;00m\u001b[39m \u001b[39m\u001b[39m\\x01\u001b[39;00m\u001b[39m(\u001b[39m\u001b[39m\\x05\u001b[39;00m\u001b[39m:\u001b[39m\u001b[39m\\x02\u001b[39;00m\u001b[39m-1\u001b[39m\u001b[39m\\\"\u001b[39;00m\u001b[39m\\x1c\u001b[39;00m\u001b[39m\\n\u001b[39;00m\u001b[39m\\t\u001b[39;00m\u001b[39mOpVersion\u001b[39m\u001b[39m\\x12\u001b[39;00m\u001b[39m\\x0f\u001b[39;00m\u001b[39m\\n\u001b[39;00m\u001b[39m\\x07\u001b[39;00m\u001b[39mversion\u001b[39m\u001b[39m\\x18\u001b[39;00m\u001b[39m\\x01\u001b[39;00m\u001b[39m \u001b[39m\u001b[39m\\x02\u001b[39;00m\u001b[39m(\u001b[39m\u001b[39m\\x05\u001b[39;00m\u001b[39m\\\"\u001b[39;00m\u001b[39m\\xa9\u001b[39;00m\u001b[39m\\x01\u001b[39;00m\u001b[39m\\n\u001b[39;00m\u001b[39m\\x0c\u001b[39;00m\u001b[39mOpVersionMap\u001b[39m\u001b[39m\\x12\u001b[39;00m\u001b[39m@\u001b[39m\u001b[39m\\n\u001b[39;00m\u001b[39m\\x04\u001b[39;00m\u001b[39mpair\u001b[39m\u001b[39m\\x18\u001b[39;00m\u001b[39m\\x01\u001b[39;00m\u001b[39m \u001b[39m\u001b[39m\\x03\u001b[39;00m\u001b[39m(\u001b[39m\u001b[39m\\x0b\u001b[39;00m\u001b[39m\\x32\u001b[39;00m\u001b[39m\\x32\u001b[39;00m\u001b[39m.paddle.framework.proto.OpVersionMap.OpVersionPair\u001b[39m\u001b[39m\\x1a\u001b[39;00m\u001b[39mW\u001b[39m\u001b[39m\\n\u001b[39;00m\u001b[39m\\r\u001b[39;00m\u001b[39mOpVersionPair\u001b[39m\u001b[39m\\x12\u001b[39;00m\u001b[39m\\x0f\u001b[39;00m\u001b[39m\\n\u001b[39;00m\u001b[39m\\x07\u001b[39;00m\u001b[39mop_name\u001b[39m\u001b[39m\\x18\u001b[39;00m\u001b[39m\\x01\u001b[39;00m\u001b[39m \u001b[39m\u001b[39m\\x02\u001b[39;00m\u001b[39m(\u001b[39m\u001b[39m\\t\u001b[39;00m\u001b[39m\\x12\u001b[39;00m\u001b[39m\\x35\u001b[39;00m\u001b[39m\\n\u001b[39;00m\u001b[39m\\n\u001b[39;00m\u001b[39mop_version\u001b[39m\u001b[39m\\x18\u001b[39;00m\u001b[39m\\x02\u001b[39;00m\u001b[39m \u001b[39m\u001b[39m\\x02\u001b[39;00m\u001b[39m(\u001b[39m\u001b[39m\\x0b\u001b[39;00m\u001b[39m\\x32\u001b[39;00m\u001b[39m!.paddle.framework.proto.OpVersion\u001b[39m\u001b[39m\\\"\u001b[39;00m\u001b[39m\\xbc\u001b[39;00m\u001b[39m\\x01\u001b[39;00m\u001b[39m\\n\u001b[39;00m\u001b[39m\\x0b\u001b[39;00m\u001b[39mProgramDesc\u001b[39m\u001b[39m\\x12\u001b[39;00m\u001b[39m\\x31\u001b[39;00m\u001b[39m\\n\u001b[39;00m\u001b[39m\\x06\u001b[39;00m\u001b[39m\\x62\u001b[39;00m\u001b[39mlocks\u001b[39m\u001b[39m\\x18\u001b[39;00m\u001b[39m\\x01\u001b[39;00m\u001b[39m \u001b[39m\u001b[39m\\x03\u001b[39;00m\u001b[39m(\u001b[39m\u001b[39m\\x0b\u001b[39;00m\u001b[39m\\x32\u001b[39;00m\u001b[39m!.paddle.framework.proto.BlockDesc\u001b[39m\u001b[39m\\x12\u001b[39;00m\u001b[39m\\x30\u001b[39;00m\u001b[39m\\n\u001b[39;00m\u001b[39m\\x07\u001b[39;00m\u001b[39mversion\u001b[39m\u001b[39m\\x18\u001b[39;00m\u001b[39m\\x04\u001b[39;00m\u001b[39m \u001b[39m\u001b[39m\\x01\u001b[39;00m\u001b[39m(\u001b[39m\u001b[39m\\x0b\u001b[39;00m\u001b[39m\\x32\u001b[39;00m\u001b[39m\\x1f\u001b[39;00m\u001b[39m.paddle.framework.proto.Version\u001b[39m\u001b[39m\\x12\u001b[39;00m\u001b[39m<\u001b[39m\u001b[39m\\n\u001b[39;00m\u001b[39m\\x0e\u001b[39;00m\u001b[39mop_version_map\u001b[39m\u001b[39m\\x18\u001b[39;00m\u001b[39m\\x05\u001b[39;00m\u001b[39m \u001b[39m\u001b[39m\\x01\u001b[39;00m\u001b[39m(\u001b[39m\u001b[39m\\x0b\u001b[39;00m\u001b[39m\\x32\u001b[39;00m\u001b[39m$.paddle.framework.proto.OpVersionMapJ\u001b[39m\u001b[39m\\x04\u001b[39;00m\u001b[39m\\x08\u001b[39;00m\u001b[39m\\x02\u001b[39;00m\u001b[39m\\x10\u001b[39;00m\u001b[39m\\x03\u001b[39;00m\u001b[39mJ\u001b[39m\u001b[39m\\x04\u001b[39;00m\u001b[39m\\x08\u001b[39;00m\u001b[39m\\x03\u001b[39;00m\u001b[39m\\x10\u001b[39;00m\u001b[39m\\x04\u001b[39;00m\u001b[39m*\u001b[39m\u001b[39m\\xc2\u001b[39;00m\u001b[39m\\x01\u001b[39;00m\u001b[39m\\n\u001b[39;00m\u001b[39m\\x08\u001b[39;00m\u001b[39m\\x41\u001b[39;00m\u001b[39mttrType\u001b[39m\u001b[39m\\x12\u001b[39;00m\u001b[39m\\x07\u001b[39;00m\u001b[39m\\n\u001b[39;00m\u001b[39m\\x03\u001b[39;00m\u001b[39mINT\u001b[39m\u001b[39m\\x10\u001b[39;00m\u001b[39m\\x00\u001b[39;00m\u001b[39m\\x12\u001b[39;00m\u001b[39m\\t\u001b[39;00m\u001b[39m\\n\u001b[39;00m\u001b[39m\\x05\u001b[39;00m\u001b[39m\\x46\u001b[39;00m\u001b[39mLOAT\u001b[39m\u001b[39m\\x10\u001b[39;00m\u001b[39m\\x01\u001b[39;00m\u001b[39m\\x12\u001b[39;00m\u001b[39m\\n\u001b[39;00m\u001b[39m\\n\u001b[39;00m\u001b[39m\\x06\u001b[39;00m\u001b[39mSTRING\u001b[39m\u001b[39m\\x10\u001b[39;00m\u001b[39m\\x02\u001b[39;00m\u001b[39m\\x12\u001b[39;00m\u001b[39m\\x08\u001b[39;00m\u001b[39m\\n\u001b[39;00m\u001b[39m\\x04\u001b[39;00m\u001b[39mINTS\u001b[39m\u001b[39m\\x10\u001b[39;00m\u001b[39m\\x03\u001b[39;00m\u001b[39m\\x12\u001b[39;00m\u001b[39m\\n\u001b[39;00m\u001b[39m\\n\u001b[39;00m\u001b[39m\\x06\u001b[39;00m\u001b[39m\\x46\u001b[39;00m\u001b[39mLOATS\u001b[39m\u001b[39m\\x10\u001b[39;00m\u001b[39m\\x04\u001b[39;00m\u001b[39m\\x12\u001b[39;00m\u001b[39m\\x0b\u001b[39;00m\u001b[39m\\n\u001b[39;00m\u001b[39m\\x07\u001b[39;00m\u001b[39mSTRINGS\u001b[39m\u001b[39m\\x10\u001b[39;00m\u001b[39m\\x05\u001b[39;00m\u001b[39m\\x12\u001b[39;00m\u001b[39m\\x0b\u001b[39;00m\u001b[39m\\n\u001b[39;00m\u001b[39m\\x07\u001b[39;00m\u001b[39m\\x42\u001b[39;00m\u001b[39mOOLEAN\u001b[39m\u001b[39m\\x10\u001b[39;00m\u001b[39m\\x06\u001b[39;00m\u001b[39m\\x12\u001b[39;00m\u001b[39m\\x0c\u001b[39;00m\u001b[39m\\n\u001b[39;00m\u001b[39m\\x08\u001b[39;00m\u001b[39m\\x42\u001b[39;00m\u001b[39mOOLEANS\u001b[39m\u001b[39m\\x10\u001b[39;00m\u001b[39m\\x07\u001b[39;00m\u001b[39m\\x12\u001b[39;00m\u001b[39m\\t\u001b[39;00m\u001b[39m\\n\u001b[39;00m\u001b[39m\\x05\u001b[39;00m\u001b[39m\\x42\u001b[39;00m\u001b[39mLOCK\u001b[39m\u001b[39m\\x10\u001b[39;00m\u001b[39m\\x08\u001b[39;00m\u001b[39m\\x12\u001b[39;00m\u001b[39m\\x08\u001b[39;00m\u001b[39m\\n\u001b[39;00m\u001b[39m\\x04\u001b[39;00m\u001b[39mLONG\u001b[39m\u001b[39m\\x10\u001b[39;00m\u001b[39m\\t\u001b[39;00m\u001b[39m\\x12\u001b[39;00m\u001b[39m\\n\u001b[39;00m\u001b[39m\\n\u001b[39;00m\u001b[39m\\x06\u001b[39;00m\u001b[39m\\x42\u001b[39;00m\u001b[39mLOCKS\u001b[39m\u001b[39m\\x10\u001b[39;00m\u001b[39m\\n\u001b[39;00m\u001b[39m\\x12\u001b[39;00m\u001b[39m\\t\u001b[39;00m\u001b[39m\\n\u001b[39;00m\u001b[39m\\x05\u001b[39;00m\u001b[39mLONGS\u001b[39m\u001b[39m\\x10\u001b[39;00m\u001b[39m\\x0b\u001b[39;00m\u001b[39m\\x12\u001b[39;00m\u001b[39m\\x0c\u001b[39;00m\u001b[39m\\n\u001b[39;00m\u001b[39m\\x08\u001b[39;00m\u001b[39m\\x46\u001b[39;00m\u001b[39mLOAT64S\u001b[39m\u001b[39m\\x10\u001b[39;00m\u001b[39m\\x0c\u001b[39;00m\u001b[39m\\x12\u001b[39;00m\u001b[39m\\x07\u001b[39;00m\u001b[39m\\n\u001b[39;00m\u001b[39m\\x03\u001b[39;00m\u001b[39mVAR\u001b[39m\u001b[39m\\x10\u001b[39;00m\u001b[39m\\r\u001b[39;00m\u001b[39m\\x12\u001b[39;00m\u001b[39m\\x08\u001b[39;00m\u001b[39m\\n\u001b[39;00m\u001b[39m\\x04\u001b[39;00m\u001b[39mVARS\u001b[39m\u001b[39m\\x10\u001b[39;00m\u001b[39m\\x0e\u001b[39;00m\u001b[39m\\x12\u001b[39;00m\u001b[39m\\x0b\u001b[39;00m\u001b[39m\\n\u001b[39;00m\u001b[39m\\x07\u001b[39;00m\u001b[39m\\x46\u001b[39;00m\u001b[39mLOAT64\u001b[39m\u001b[39m\\x10\u001b[39;00m\u001b[39m\\x0f\u001b[39;00m\u001b[39m'\u001b[39m)\n\u001b[1;32m     24\u001b[0m )\n\u001b[1;32m     25\u001b[0m _sym_db\u001b[39m.\u001b[39mRegisterFileDescriptor(DESCRIPTOR)\n\u001b[1;32m     27\u001b[0m _ATTRTYPE \u001b[39m=\u001b[39m _descriptor\u001b[39m.\u001b[39mEnumDescriptor(\n\u001b[1;32m     28\u001b[0m   name\u001b[39m=\u001b[39m\u001b[39m'\u001b[39m\u001b[39mAttrType\u001b[39m\u001b[39m'\u001b[39m,\n\u001b[1;32m     29\u001b[0m   full_name\u001b[39m=\u001b[39m\u001b[39m'\u001b[39m\u001b[39mpaddle.framework.proto.AttrType\u001b[39m\u001b[39m'\u001b[39m,\n\u001b[1;32m     30\u001b[0m   filename\u001b[39m=\u001b[39m\u001b[39mNone\u001b[39;00m,\n\u001b[1;32m     31\u001b[0m   file\u001b[39m=\u001b[39mDESCRIPTOR,\n\u001b[1;32m     32\u001b[0m   values\u001b[39m=\u001b[39m[\n\u001b[0;32m---> 33\u001b[0m     _descriptor\u001b[39m.\u001b[39;49mEnumValueDescriptor(\n\u001b[1;32m     34\u001b[0m       name\u001b[39m=\u001b[39;49m\u001b[39m'\u001b[39;49m\u001b[39mINT\u001b[39;49m\u001b[39m'\u001b[39;49m, index\u001b[39m=\u001b[39;49m\u001b[39m0\u001b[39;49m, number\u001b[39m=\u001b[39;49m\u001b[39m0\u001b[39;49m,\n\u001b[1;32m     35\u001b[0m       options\u001b[39m=\u001b[39;49m\u001b[39mNone\u001b[39;49;00m,\n\u001b[1;32m     36\u001b[0m       \u001b[39mtype\u001b[39;49m\u001b[39m=\u001b[39;49m\u001b[39mNone\u001b[39;49;00m),\n\u001b[1;32m     37\u001b[0m     _descriptor\u001b[39m.\u001b[39mEnumValueDescriptor(\n\u001b[1;32m     38\u001b[0m       name\u001b[39m=\u001b[39m\u001b[39m'\u001b[39m\u001b[39mFLOAT\u001b[39m\u001b[39m'\u001b[39m, index\u001b[39m=\u001b[39m\u001b[39m1\u001b[39m, number\u001b[39m=\u001b[39m\u001b[39m1\u001b[39m,\n\u001b[1;32m     39\u001b[0m       options\u001b[39m=\u001b[39m\u001b[39mNone\u001b[39;00m,\n\u001b[1;32m     40\u001b[0m       \u001b[39mtype\u001b[39m\u001b[39m=\u001b[39m\u001b[39mNone\u001b[39;00m),\n\u001b[1;32m     41\u001b[0m     _descriptor\u001b[39m.\u001b[39mEnumValueDescriptor(\n\u001b[1;32m     42\u001b[0m       name\u001b[39m=\u001b[39m\u001b[39m'\u001b[39m\u001b[39mSTRING\u001b[39m\u001b[39m'\u001b[39m, index\u001b[39m=\u001b[39m\u001b[39m2\u001b[39m, number\u001b[39m=\u001b[39m\u001b[39m2\u001b[39m,\n\u001b[1;32m     43\u001b[0m       options\u001b[39m=\u001b[39m\u001b[39mNone\u001b[39;00m,\n\u001b[1;32m     44\u001b[0m       \u001b[39mtype\u001b[39m\u001b[39m=\u001b[39m\u001b[39mNone\u001b[39;00m),\n\u001b[1;32m     45\u001b[0m     _descriptor\u001b[39m.\u001b[39mEnumValueDescriptor(\n\u001b[1;32m     46\u001b[0m       name\u001b[39m=\u001b[39m\u001b[39m'\u001b[39m\u001b[39mINTS\u001b[39m\u001b[39m'\u001b[39m, index\u001b[39m=\u001b[39m\u001b[39m3\u001b[39m, number\u001b[39m=\u001b[39m\u001b[39m3\u001b[39m,\n\u001b[1;32m     47\u001b[0m       options\u001b[39m=\u001b[39m\u001b[39mNone\u001b[39;00m,\n\u001b[1;32m     48\u001b[0m       \u001b[39mtype\u001b[39m\u001b[39m=\u001b[39m\u001b[39mNone\u001b[39;00m),\n\u001b[1;32m     49\u001b[0m     _descriptor\u001b[39m.\u001b[39mEnumValueDescriptor(\n\u001b[1;32m     50\u001b[0m       name\u001b[39m=\u001b[39m\u001b[39m'\u001b[39m\u001b[39mFLOATS\u001b[39m\u001b[39m'\u001b[39m, index\u001b[39m=\u001b[39m\u001b[39m4\u001b[39m, number\u001b[39m=\u001b[39m\u001b[39m4\u001b[39m,\n\u001b[1;32m     51\u001b[0m       options\u001b[39m=\u001b[39m\u001b[39mNone\u001b[39;00m,\n\u001b[1;32m     52\u001b[0m       \u001b[39mtype\u001b[39m\u001b[39m=\u001b[39m\u001b[39mNone\u001b[39;00m),\n\u001b[1;32m     53\u001b[0m     _descriptor\u001b[39m.\u001b[39mEnumValueDescriptor(\n\u001b[1;32m     54\u001b[0m       name\u001b[39m=\u001b[39m\u001b[39m'\u001b[39m\u001b[39mSTRINGS\u001b[39m\u001b[39m'\u001b[39m, index\u001b[39m=\u001b[39m\u001b[39m5\u001b[39m, number\u001b[39m=\u001b[39m\u001b[39m5\u001b[39m,\n\u001b[1;32m     55\u001b[0m       options\u001b[39m=\u001b[39m\u001b[39mNone\u001b[39;00m,\n\u001b[1;32m     56\u001b[0m       \u001b[39mtype\u001b[39m\u001b[39m=\u001b[39m\u001b[39mNone\u001b[39;00m),\n\u001b[1;32m     57\u001b[0m     _descriptor\u001b[39m.\u001b[39mEnumValueDescriptor(\n\u001b[1;32m     58\u001b[0m       name\u001b[39m=\u001b[39m\u001b[39m'\u001b[39m\u001b[39mBOOLEAN\u001b[39m\u001b[39m'\u001b[39m, index\u001b[39m=\u001b[39m\u001b[39m6\u001b[39m, number\u001b[39m=\u001b[39m\u001b[39m6\u001b[39m,\n\u001b[1;32m     59\u001b[0m       options\u001b[39m=\u001b[39m\u001b[39mNone\u001b[39;00m,\n\u001b[1;32m     60\u001b[0m       \u001b[39mtype\u001b[39m\u001b[39m=\u001b[39m\u001b[39mNone\u001b[39;00m),\n\u001b[1;32m     61\u001b[0m     _descriptor\u001b[39m.\u001b[39mEnumValueDescriptor(\n\u001b[1;32m     62\u001b[0m       name\u001b[39m=\u001b[39m\u001b[39m'\u001b[39m\u001b[39mBOOLEANS\u001b[39m\u001b[39m'\u001b[39m, index\u001b[39m=\u001b[39m\u001b[39m7\u001b[39m, number\u001b[39m=\u001b[39m\u001b[39m7\u001b[39m,\n\u001b[1;32m     63\u001b[0m       options\u001b[39m=\u001b[39m\u001b[39mNone\u001b[39;00m,\n\u001b[1;32m     64\u001b[0m       \u001b[39mtype\u001b[39m\u001b[39m=\u001b[39m\u001b[39mNone\u001b[39;00m),\n\u001b[1;32m     65\u001b[0m     _descriptor\u001b[39m.\u001b[39mEnumValueDescriptor(\n\u001b[1;32m     66\u001b[0m       name\u001b[39m=\u001b[39m\u001b[39m'\u001b[39m\u001b[39mBLOCK\u001b[39m\u001b[39m'\u001b[39m, index\u001b[39m=\u001b[39m\u001b[39m8\u001b[39m, number\u001b[39m=\u001b[39m\u001b[39m8\u001b[39m,\n\u001b[1;32m     67\u001b[0m       options\u001b[39m=\u001b[39m\u001b[39mNone\u001b[39;00m,\n\u001b[1;32m     68\u001b[0m       \u001b[39mtype\u001b[39m\u001b[39m=\u001b[39m\u001b[39mNone\u001b[39;00m),\n\u001b[1;32m     69\u001b[0m     _descriptor\u001b[39m.\u001b[39mEnumValueDescriptor(\n\u001b[1;32m     70\u001b[0m       name\u001b[39m=\u001b[39m\u001b[39m'\u001b[39m\u001b[39mLONG\u001b[39m\u001b[39m'\u001b[39m, index\u001b[39m=\u001b[39m\u001b[39m9\u001b[39m, number\u001b[39m=\u001b[39m\u001b[39m9\u001b[39m,\n\u001b[1;32m     71\u001b[0m       options\u001b[39m=\u001b[39m\u001b[39mNone\u001b[39;00m,\n\u001b[1;32m     72\u001b[0m       \u001b[39mtype\u001b[39m\u001b[39m=\u001b[39m\u001b[39mNone\u001b[39;00m),\n\u001b[1;32m     73\u001b[0m     _descriptor\u001b[39m.\u001b[39mEnumValueDescriptor(\n\u001b[1;32m     74\u001b[0m       name\u001b[39m=\u001b[39m\u001b[39m'\u001b[39m\u001b[39mBLOCKS\u001b[39m\u001b[39m'\u001b[39m, index\u001b[39m=\u001b[39m\u001b[39m10\u001b[39m, number\u001b[39m=\u001b[39m\u001b[39m10\u001b[39m,\n\u001b[1;32m     75\u001b[0m       options\u001b[39m=\u001b[39m\u001b[39mNone\u001b[39;00m,\n\u001b[1;32m     76\u001b[0m       \u001b[39mtype\u001b[39m\u001b[39m=\u001b[39m\u001b[39mNone\u001b[39;00m),\n\u001b[1;32m     77\u001b[0m     _descriptor\u001b[39m.\u001b[39mEnumValueDescriptor(\n\u001b[1;32m     78\u001b[0m       name\u001b[39m=\u001b[39m\u001b[39m'\u001b[39m\u001b[39mLONGS\u001b[39m\u001b[39m'\u001b[39m, index\u001b[39m=\u001b[39m\u001b[39m11\u001b[39m, number\u001b[39m=\u001b[39m\u001b[39m11\u001b[39m,\n\u001b[1;32m     79\u001b[0m       options\u001b[39m=\u001b[39m\u001b[39mNone\u001b[39;00m,\n\u001b[1;32m     80\u001b[0m       \u001b[39mtype\u001b[39m\u001b[39m=\u001b[39m\u001b[39mNone\u001b[39;00m),\n\u001b[1;32m     81\u001b[0m     _descriptor\u001b[39m.\u001b[39mEnumValueDescriptor(\n\u001b[1;32m     82\u001b[0m       name\u001b[39m=\u001b[39m\u001b[39m'\u001b[39m\u001b[39mFLOAT64S\u001b[39m\u001b[39m'\u001b[39m, index\u001b[39m=\u001b[39m\u001b[39m12\u001b[39m, number\u001b[39m=\u001b[39m\u001b[39m12\u001b[39m,\n\u001b[1;32m     83\u001b[0m       options\u001b[39m=\u001b[39m\u001b[39mNone\u001b[39;00m,\n\u001b[1;32m     84\u001b[0m       \u001b[39mtype\u001b[39m\u001b[39m=\u001b[39m\u001b[39mNone\u001b[39;00m),\n\u001b[1;32m     85\u001b[0m     _descriptor\u001b[39m.\u001b[39mEnumValueDescriptor(\n\u001b[1;32m     86\u001b[0m       name\u001b[39m=\u001b[39m\u001b[39m'\u001b[39m\u001b[39mVAR\u001b[39m\u001b[39m'\u001b[39m, index\u001b[39m=\u001b[39m\u001b[39m13\u001b[39m, number\u001b[39m=\u001b[39m\u001b[39m13\u001b[39m,\n\u001b[1;32m     87\u001b[0m       options\u001b[39m=\u001b[39m\u001b[39mNone\u001b[39;00m,\n\u001b[1;32m     88\u001b[0m       \u001b[39mtype\u001b[39m\u001b[39m=\u001b[39m\u001b[39mNone\u001b[39;00m),\n\u001b[1;32m     89\u001b[0m     _descriptor\u001b[39m.\u001b[39mEnumValueDescriptor(\n\u001b[1;32m     90\u001b[0m       name\u001b[39m=\u001b[39m\u001b[39m'\u001b[39m\u001b[39mVARS\u001b[39m\u001b[39m'\u001b[39m, index\u001b[39m=\u001b[39m\u001b[39m14\u001b[39m, number\u001b[39m=\u001b[39m\u001b[39m14\u001b[39m,\n\u001b[1;32m     91\u001b[0m       options\u001b[39m=\u001b[39m\u001b[39mNone\u001b[39;00m,\n\u001b[1;32m     92\u001b[0m       \u001b[39mtype\u001b[39m\u001b[39m=\u001b[39m\u001b[39mNone\u001b[39;00m),\n\u001b[1;32m     93\u001b[0m     _descriptor\u001b[39m.\u001b[39mEnumValueDescriptor(\n\u001b[1;32m     94\u001b[0m       name\u001b[39m=\u001b[39m\u001b[39m'\u001b[39m\u001b[39mFLOAT64\u001b[39m\u001b[39m'\u001b[39m, index\u001b[39m=\u001b[39m\u001b[39m15\u001b[39m, number\u001b[39m=\u001b[39m\u001b[39m15\u001b[39m,\n\u001b[1;32m     95\u001b[0m       options\u001b[39m=\u001b[39m\u001b[39mNone\u001b[39;00m,\n\u001b[1;32m     96\u001b[0m       \u001b[39mtype\u001b[39m\u001b[39m=\u001b[39m\u001b[39mNone\u001b[39;00m),\n\u001b[1;32m     97\u001b[0m   ],\n\u001b[1;32m     98\u001b[0m   containing_type\u001b[39m=\u001b[39m\u001b[39mNone\u001b[39;00m,\n\u001b[1;32m     99\u001b[0m   options\u001b[39m=\u001b[39m\u001b[39mNone\u001b[39;00m,\n\u001b[1;32m    100\u001b[0m   serialized_start\u001b[39m=\u001b[39m\u001b[39m3677\u001b[39m,\n\u001b[1;32m    101\u001b[0m   serialized_end\u001b[39m=\u001b[39m\u001b[39m3871\u001b[39m,\n\u001b[1;32m    102\u001b[0m )\n\u001b[1;32m    103\u001b[0m _sym_db\u001b[39m.\u001b[39mRegisterEnumDescriptor(_ATTRTYPE)\n\u001b[1;32m    105\u001b[0m AttrType \u001b[39m=\u001b[39m enum_type_wrapper\u001b[39m.\u001b[39mEnumTypeWrapper(_ATTRTYPE)\n",
      "File \u001b[0;32m~/Library/Python/3.8/lib/python/site-packages/google/protobuf/descriptor.py:796\u001b[0m, in \u001b[0;36mEnumValueDescriptor.__new__\u001b[0;34m(cls, name, index, number, type, options, serialized_options, create_key)\u001b[0m\n\u001b[1;32m    793\u001b[0m \u001b[39mdef\u001b[39;00m \u001b[39m__new__\u001b[39m(\u001b[39mcls\u001b[39m, name, index, number,\n\u001b[1;32m    794\u001b[0m             \u001b[39mtype\u001b[39m\u001b[39m=\u001b[39m\u001b[39mNone\u001b[39;00m,  \u001b[39m# pylint: disable=redefined-builtin\u001b[39;00m\n\u001b[1;32m    795\u001b[0m             options\u001b[39m=\u001b[39m\u001b[39mNone\u001b[39;00m, serialized_options\u001b[39m=\u001b[39m\u001b[39mNone\u001b[39;00m, create_key\u001b[39m=\u001b[39m\u001b[39mNone\u001b[39;00m):\n\u001b[0;32m--> 796\u001b[0m   _message\u001b[39m.\u001b[39;49mMessage\u001b[39m.\u001b[39;49m_CheckCalledFromGeneratedFile()\n\u001b[1;32m    797\u001b[0m   \u001b[39m# There is no way we can build a complete EnumValueDescriptor with the\u001b[39;00m\n\u001b[1;32m    798\u001b[0m   \u001b[39m# given parameters (the name of the Enum is not known, for example).\u001b[39;00m\n\u001b[1;32m    799\u001b[0m   \u001b[39m# Fortunately generated files just pass it to the EnumDescriptor()\u001b[39;00m\n\u001b[1;32m    800\u001b[0m   \u001b[39m# constructor, which will ignore it, so returning None is good enough.\u001b[39;00m\n\u001b[1;32m    801\u001b[0m   \u001b[39mreturn\u001b[39;00m \u001b[39mNone\u001b[39;00m\n",
      "\u001b[0;31mTypeError\u001b[0m: Descriptors cannot not be created directly.\nIf this call came from a _pb2.py file, your generated code is out of date and must be regenerated with protoc >= 3.19.0.\nIf you cannot immediately regenerate your protos, some other possible workarounds are:\n 1. Downgrade the protobuf package to 3.20.x or lower.\n 2. Set PROTOCOL_BUFFERS_PYTHON_IMPLEMENTATION=python (but this will use pure-Python parsing and will be much slower).\n\nMore information: https://developers.google.com/protocol-buffers/docs/news/2022-05-06#python-updates"
     ]
    }
   ],
   "source": [
    "#导入需要的包\n",
    "%matplotlib inline\n",
    "import os\n",
    "import pandas as pd\n",
    "import numpy as np\n",
    "import matplotlib.pyplot as plt\n",
    "from sklearn.preprocessing import StandardScaler, MinMaxScaler\n",
    "import datetime\n",
    "import paddlets\n",
    "from paddlets import TSDataset\n",
    "from paddlets import TimeSeries\n",
    "from paddlets.models.forecasting import MLPRegressor, LSTNetRegressor\n",
    "from paddlets.transform import Fill, StandardScaler\n",
    "from paddlets.metrics import MSE, MAE\n",
    "from paddlets.analysis import AnalysisReport, Summary\n",
    "from paddlets.datasets.repository import get_dataset\n",
    "import warnings\n",
    "warnings.filterwarnings('ignore')"
   ]
  },
  {
   "attachments": {},
   "cell_type": "markdown",
   "metadata": {},
   "source": [
    "### 04-1.csv 和 04-2.csv是同一个风机多次导出的数据，需要合并\n",
    "### 有.csv也有.xlsx，需要统一格式"
   ]
  },
  {
   "cell_type": "code",
   "execution_count": null,
   "metadata": {},
   "outputs": [],
   "source": [
    "def data_preprocess(src_data_dir, dst_data_dir):\n",
    "    files = os.listdir(src_data_dir)\n",
    "    # 第一步，完成数据格式统一\n",
    "    for f in files:\n",
    "        # 获取文件路径\n",
    "        data_file = os.path.join(src_data_dir, f)\n",
    "        # 获取文件名后缀\n",
    "        data_type = os.path.splitext(data_file)[-1]\n",
    "        # 获取文件名前缀\n",
    "        data_name = os.path.splitext(data_file)[0]\n",
    "        # 如果是excel文件，进行转换\n",
    "        if data_type == '.xlsx':\n",
    "            # 需要特别注意的是，在读取excel文件时要指定空值的显示方式，否则会在保存时以字符“.”代替，影响后续的数据分析\n",
    "            data_xls = pd.read_excel(data_file, index_col=0, na_values='')\n",
    "            data_xls.to_csv(data_name + '.csv', encoding='utf-8')\n",
    "            # 将xls文件存到目标目录\n",
    "            os.sava(data_name + '.csv', dst_data_dir)\n",
    "        else:\n",
    "            # 将csv文件存到目标目录\n",
    "            os.sava(data_file, dst_data_dir)\n",
    "\n",
    "    # 第二步，完成多文件的合并，文件目录要重新更新一次\n",
    "    files = os.listdir(dst_data_dir)\n",
    "    for f in files:\n",
    "        # 获取文件路径\n",
    "        data_file = os.path.join(dst_data_dir, f)\n",
    "        # 获取文件名前缀\n",
    "        data_basename = os.path.basename(data_file)\n",
    "        # 检查风机数据是否有多个数据文件\n",
    "        if len(data_basename.split('-')) > 1:\n",
    "            merge_list = []\n",
    "            # 找出该风机的所有数据文件\n",
    "            matches = [ f for f in files if (f.find(data_basename.split('-')[0] + '-') > -1)]\n",
    "            for i in matches:\n",
    "                # 读取风机这部分数据\n",
    "                data_df = pd.read_csv(os.path.join(dst_data_dir, i), index_col=False, keep_default_na=False)\n",
    "                merge_list.append(data_df)\n",
    "            if len(merge_list) > 0:\n",
    "                all_data = pd.concat(merge_list,axis=0,ignore_index=True).fillna(\".\")\n",
    "                all_data.to_csv(os.path.join(dst_data_dir, data_basename.split('-')[0]+ '.csv'),index=False) \n",
    "            for i in matches:\n",
    "                # 删除这部分数据文件\n",
    "                os.remove(os.path.join(dst_data_dir, i))\n",
    "            # 更新文件目录\n",
    "            files = os.listdir(dst_data_dir)\n"
   ]
  },
  {
   "cell_type": "code",
   "execution_count": null,
   "metadata": {},
   "outputs": [],
   "source": [
    "data_preprocess('../../data/raw/wind-power-forecast')"
   ]
  },
  {
   "cell_type": "code",
   "execution_count": null,
   "metadata": {},
   "outputs": [],
   "source": [
    "os.listdir('../../data/processed/wind-power-forecast')"
   ]
  },
  {
   "attachments": {},
   "cell_type": "markdown",
   "metadata": {},
   "source": [
    "# 数据EDA"
   ]
  },
  {
   "cell_type": "code",
   "execution_count": null,
   "metadata": {},
   "outputs": [],
   "source": [
    "# 读取一份数据文件，这里需要特别注意时间戳字段的格式指定\n",
    "df = pd.read_csv('../../data/processed/wind-power-forecast/04.csv',parse_dates=['DATATIME'],infer_datetime_format=True,dayfirst=True)\n",
    "\n",
    "# 查看04号风机的运行工况数据\n",
    "df.head()"
   ]
  },
  {
   "attachments": {},
   "cell_type": "markdown",
   "metadata": {},
   "source": [
    "# 用paddlets完成初步数据分析"
   ]
  },
  {
   "cell_type": "code",
   "execution_count": null,
   "metadata": {},
   "outputs": [],
   "source": [
    "df.columns"
   ]
  },
  {
   "cell_type": "code",
   "execution_count": null,
   "metadata": {},
   "outputs": [],
   "source": [
    "df.info()"
   ]
  },
  {
   "cell_type": "code",
   "execution_count": null,
   "metadata": {},
   "outputs": [],
   "source": [
    "df.tail()"
   ]
  },
  {
   "cell_type": "code",
   "execution_count": null,
   "metadata": {},
   "outputs": [],
   "source": [
    "# 因为数据批次不同，数据集中有一些时间戳重复的脏数据，送入paddlets前要进行处理，本赛题要求保留第一个数据\n",
    "df.drop_duplicates(subset = ['DATATIME'],keep='first',inplace=True)\n",
    "\n",
    "# 我们选取最后30天的风机工况数据进行可视化\n",
    "target_cov_dataset = TSDataset.load_from_dataframe(\n",
    "    df[-4*24*30:],\n",
    "    time_col='DATATIME',\n",
    "    target_cols='YD15',\n",
    "    observed_cov_cols=['WINDSPEED', 'PREPOWER', 'WINDDIRECTION', 'TEMPERATURE',\n",
    "       'HUMIDITY', 'PRESSURE', 'ROUND(A.WS,1)', 'ROUND(A.POWER,0)'],\n",
    "    freq='15min',\n",
    "    fill_missing_dates=False\n",
    ")\n",
    "# 由于不同指标的数值差异较大，在绘图时选取数值范围相近的组合分开绘制可视化图表\n",
    "target_cov_dataset.plot(['WINDSPEED', 'TEMPERATURE', 'ROUND(A.WS,1)'])"
   ]
  },
  {
   "cell_type": "code",
   "execution_count": null,
   "metadata": {},
   "outputs": [],
   "source": [
    "target_cov_dataset.plot(['WINDDIRECTION', 'HUMIDITY', 'PRESSURE'])"
   ]
  },
  {
   "cell_type": "code",
   "execution_count": null,
   "metadata": {},
   "outputs": [],
   "source": [
    "target_cov_dataset.plot(['PREPOWER', 'ROUND(A.POWER,0)','YD15'])"
   ]
  },
  {
   "cell_type": "code",
   "execution_count": null,
   "metadata": {},
   "outputs": [],
   "source": [
    "target_cov_dataset.summary()"
   ]
  },
  {
   "cell_type": "code",
   "execution_count": null,
   "metadata": {},
   "outputs": [],
   "source": [
    "target_cov_dataset.max()"
   ]
  },
  {
   "cell_type": "code",
   "execution_count": null,
   "metadata": {},
   "outputs": [],
   "source": [
    "report = AnalysisReport(target_cov_dataset, [\"summary\"])\n",
    "# 加入时频分析后，需要较长的计算时间\n",
    "# report = AnalysisReport(target_cov_dataset, [\"summary\",\"fft\",\"stft\",\"cwt\"])\n",
    "report.export_docx_report()"
   ]
  },
  {
   "attachments": {},
   "cell_type": "markdown",
   "metadata": {},
   "source": [
    "# 模型应用"
   ]
  },
  {
   "cell_type": "code",
   "execution_count": null,
   "metadata": {},
   "outputs": [],
   "source": [
    "# 读取数据集\n",
    "\n",
    "df = pd.read_csv('../../data/processed/wind-power-forecast/01.csv',parse_dates=['DATATIME'],infer_datetime_format=True,dayfirst=True,dtype={'WINDDIRECTION':np.float64, 'HUMIDITY':np.float64, 'PRESSURE':np.float64})\n",
    "\n",
    "# 因为数据批次不同，数据集中有一些时间戳重复的脏数据，送入paddlets前要进行处理，本赛题要求保留第一个数据\n",
    "df.drop_duplicates(subset = ['DATATIME'],keep='first',inplace=True)\n",
    "\n",
    "df.info()"
   ]
  },
  {
   "cell_type": "code",
   "execution_count": null,
   "metadata": {},
   "outputs": [],
   "source": [
    "# 数据集预处理，指定时间戳、目标值、观测值、频率，填充缺失值\n",
    "\n",
    "target_cov_dataset = TSDataset.load_from_dataframe(\n",
    "    df,\n",
    "    time_col='DATATIME',\n",
    "    target_cols=['ROUND(A.POWER,0)', 'YD15'],\n",
    "    observed_cov_cols=['WINDSPEED', 'PREPOWER', 'WINDDIRECTION', 'TEMPERATURE',\n",
    "       'HUMIDITY', 'PRESSURE', 'ROUND(A.WS,1)'],\n",
    "    freq='15min',\n",
    "    fill_missing_dates=True,\n",
    "    fillna_method = 'pre'\n",
    ")"
   ]
  },
  {
   "cell_type": "code",
   "execution_count": null,
   "metadata": {},
   "outputs": [],
   "source": [
    "# 随机划分训练集、验证集、测试集，比例为70:9:21\n",
    "\n",
    "train_dataset, val_test_dataset = target_cov_dataset.split(0.7)\n",
    "val_dataset, test_dataset = val_test_dataset.split(0.3)\n",
    "train_dataset.plot(add_data=[val_dataset,test_dataset], labels=['Val', 'Test'])"
   ]
  },
  {
   "cell_type": "code",
   "execution_count": null,
   "metadata": {},
   "outputs": [],
   "source": [
    "# 按照时间划分训练集、验证集、测试集，比例为5-7月，8月，9月\n",
    "\n",
    "_ , train_dataset = target_cov_dataset.split('2021-05-01 00:00:00')\n",
    "train_dataset, val_test_dataset = train_dataset.split('2021-08-01 00:00:00')\n",
    "val_dataset, test_dataset = val_test_dataset.split('2021-09-01 00:00:00')\n",
    "# 最后一天的工况数据需要预测ROUND(A.POWER,0)和YD15两个字段\n",
    "test_dataset, pred_dataset = test_dataset.split('2021-10-01 00:00:00')\n",
    "train_dataset.plot(add_data=[val_dataset,test_dataset], labels=['Val', 'Test'])"
   ]
  },
  {
   "cell_type": "code",
   "execution_count": null,
   "metadata": {},
   "outputs": [],
   "source": [
    "# 将以上数据集进行标准化处理\n",
    "\n",
    "scaler = StandardScaler()\n",
    "scaler.fit(train_dataset)\n",
    "train_dataset_scaled = scaler.transform(train_dataset)\n",
    "val_test_dataset_scaled = scaler.transform(val_test_dataset)\n",
    "val_dataset_scaled = scaler.transform(val_dataset)\n",
    "test_dataset_scaled = scaler.transform(test_dataset)"
   ]
  },
  {
   "attachments": {},
   "cell_type": "markdown",
   "metadata": {},
   "source": [
    "### 单模型预测"
   ]
  },
  {
   "cell_type": "code",
   "execution_count": null,
   "metadata": {},
   "outputs": [],
   "source": [
    "lstm = LSTNetRegressor(\n",
    "    in_chunk_len = 120 * 4,\n",
    "    out_chunk_len = 24 * 4,\n",
    "    max_epochs=10,\n",
    "    optimizer_params= dict(learning_rate=1e-3),\n",
    ")"
   ]
  },
  {
   "cell_type": "code",
   "execution_count": null,
   "metadata": {},
   "outputs": [],
   "source": [
    "lstm.fit(train_dataset, val_dataset)"
   ]
  },
  {
   "cell_type": "code",
   "execution_count": null,
   "metadata": {},
   "outputs": [],
   "source": [
    "subset_test_pred_dataset = lstm.predict(val_dataset)\n",
    "subset_test_dataset, _ = test_dataset.split(len(subset_test_pred_dataset.target))"
   ]
  },
  {
   "cell_type": "code",
   "execution_count": null,
   "metadata": {},
   "outputs": [],
   "source": [
    "# 模型评估\n",
    "mae = MAE()\n",
    "mae(subset_test_dataset, subset_test_pred_dataset)"
   ]
  },
  {
   "cell_type": "code",
   "execution_count": null,
   "metadata": {},
   "outputs": [],
   "source": [
    "# 预测结果可视化\n",
    "subset_test_dataset, _ = test_dataset.split(len(subset_test_pred_dataset.target))\n",
    "subset_test_dataset.plot(add_data=subset_test_pred_dataset, labels=['Pred'])"
   ]
  },
  {
   "cell_type": "code",
   "execution_count": null,
   "metadata": {},
   "outputs": [],
   "source": [
    "# 模型保存\n",
    "lstm.save(\"lstm\")"
   ]
  },
  {
   "cell_type": "code",
   "execution_count": null,
   "metadata": {},
   "outputs": [],
   "source": [
    "# 也可以动转静保存\n",
    "lstm.save(\"./model\", network_model=True, dygraph_to_static=True)"
   ]
  },
  {
   "cell_type": "code",
   "execution_count": null,
   "metadata": {},
   "outputs": [],
   "source": [
    "# 模型加载\n",
    "from paddlets.models.model_loader import load\n",
    "loaded_lstm = load(\"lstm\")"
   ]
  },
  {
   "cell_type": "code",
   "execution_count": null,
   "metadata": {},
   "outputs": [],
   "source": [
    "# 模型预测\n",
    "result = loaded_lstm.predict(test_dataset)\n",
    "result.to_dataframe()"
   ]
  },
  {
   "cell_type": "code",
   "execution_count": null,
   "metadata": {},
   "outputs": [],
   "source": [
    "result.to_dataframe().to_csv('01.csv')"
   ]
  },
  {
   "attachments": {},
   "cell_type": "markdown",
   "metadata": {},
   "source": [
    "### 集成模型预测"
   ]
  },
  {
   "cell_type": "code",
   "execution_count": null,
   "metadata": {},
   "outputs": [],
   "source": [
    "from paddlets.models.forecasting import MLPRegressor\n",
    "from paddlets.models.forecasting import LSTNetRegressor\n",
    "from paddlets.models.forecasting import RNNBlockRegressor\n",
    "\n",
    "lstm_params = {\n",
    "    'sampling_stride': 24*4,\n",
    "    'eval_metrics':[\"mse\", \"mae\"],\n",
    "    'batch_size': 8,\n",
    "    'max_epochs': 20,\n",
    "    'patience': 10\n",
    "}\n",
    "rnn_params = {\n",
    "    'sampling_stride': 24*4,\n",
    "    'eval_metrics': [\"mse\", \"mae\"],\n",
    "    'batch_size': 8,\n",
    "    'max_epochs': 20,\n",
    "    'patience': 10\n",
    "}\n",
    "mlp_params = {\n",
    "    'sampling_stride': 24*4,\n",
    "    'eval_metrics': [\"mse\", \"mae\"],\n",
    "    'batch_size': 8,\n",
    "    'max_epochs': 20,\n",
    "    'patience': 10,\n",
    "    'use_bn': True,\n",
    "}"
   ]
  },
  {
   "cell_type": "code",
   "execution_count": null,
   "metadata": {},
   "outputs": [],
   "source": [
    "from paddlets.ensemble import StackingEnsembleForecaster\n",
    "\n",
    "reg = StackingEnsembleForecaster(\n",
    "in_chunk_len= 120 * 4,\n",
    "out_chunk_len= 24 * 4,\n",
    "skip_chunk_len=0,\n",
    "estimators=[(LSTNetRegressor, lstm_params),(RNNBlockRegressor, rnn_params), (MLPRegressor, mlp_params)])\n"
   ]
  },
  {
   "cell_type": "code",
   "execution_count": null,
   "metadata": {},
   "outputs": [],
   "source": [
    "# 模型拟合\n",
    "reg.fit(train_dataset, val_dataset)"
   ]
  },
  {
   "cell_type": "code",
   "execution_count": null,
   "metadata": {},
   "outputs": [],
   "source": [
    "subset_test_pred_dataset = reg.predict(val_dataset)\n",
    "subset_test_dataset, _ = test_dataset.split(len(subset_test_pred_dataset.target))"
   ]
  },
  {
   "cell_type": "code",
   "execution_count": null,
   "metadata": {},
   "outputs": [],
   "source": [
    "# 模型评估\n",
    "mae = MAE()\n",
    "mae(subset_test_dataset, subset_test_pred_dataset)"
   ]
  },
  {
   "cell_type": "code",
   "execution_count": null,
   "metadata": {},
   "outputs": [],
   "source": [
    "subset_test_dataset, _ = test_dataset.split(len(subset_test_pred_dataset.target))\n",
    "subset_test_dataset.plot(add_data=subset_test_pred_dataset, labels=['Pred'])"
   ]
  },
  {
   "cell_type": "code",
   "execution_count": null,
   "metadata": {},
   "outputs": [],
   "source": [
    "reg.save(\"reg\")"
   ]
  },
  {
   "cell_type": "code",
   "execution_count": null,
   "metadata": {},
   "outputs": [],
   "source": [
    "# 集成模型加载\n",
    "loaded_model0 = load(\"./reg/paddlets-ensemble-model0\")\n",
    "loaded_model1 = load(\"./reg/paddlets-ensemble-model1\")\n",
    "loaded_model2 = load(\"./reg/paddlets-ensemble-model2\")"
   ]
  },
  {
   "cell_type": "code",
   "execution_count": null,
   "metadata": {},
   "outputs": [],
   "source": [
    "# 输出集成模型预测结果\n",
    "loaded_model0.predict(test_dataset).to_dataframe()*0.2 + loaded_model1.predict(test_dataset).to_dataframe()*0.4 + loaded_model2.predict(test_dataset).to_dataframe()*0.4"
   ]
  },
  {
   "cell_type": "code",
   "execution_count": null,
   "metadata": {},
   "outputs": [],
   "source": [
    "# 保存集成模型预测结果\n",
    "# (loaded_model0.predict(test_dataset).to_dataframe()*0.2 + loaded_model1.predict(test_dataset).to_dataframe()*0.4 + loaded_model2.predict(test_dataset).to_dataframe()*0.4).to_csv('01.csv')"
   ]
  },
  {
   "attachments": {},
   "cell_type": "markdown",
   "metadata": {},
   "source": [
    "### 回测"
   ]
  },
  {
   "cell_type": "code",
   "execution_count": null,
   "metadata": {},
   "outputs": [],
   "source": [
    "from paddlets.utils import backtest\n",
    "from paddlets.metrics import MAE\n",
    "mae, ts_pred = backtest(data=test_dataset,\n",
    "                model=lstm,\n",
    "                start=0.5,  # the point after \"start\" as the first point\n",
    "                metric=MAE(),\n",
    "                return_predicts=True\n",
    "                )"
   ]
  },
  {
   "cell_type": "code",
   "execution_count": null,
   "metadata": {},
   "outputs": [],
   "source": [
    "mae"
   ]
  },
  {
   "attachments": {},
   "cell_type": "markdown",
   "metadata": {},
   "source": [
    "4.5 模型保存与提交说明\n",
    "\n",
    "从赛题给的风机数据中我们可以发现，不同风机数据起始时间、预测日期均不一致。因此，选手需要逐个风机进行预测并生成提交文件。从另一个角度说，不同风机可以使用同一个时序模型、超参数，也可以使用不同的模型、超参数，选手可以自行设置。"
   ]
  }
 ],
 "metadata": {
  "kernelspec": {
   "display_name": "Python 3",
   "language": "python",
   "name": "python3"
  },
  "language_info": {
   "codemirror_mode": {
    "name": "ipython",
    "version": 3
   },
   "file_extension": ".py",
   "mimetype": "text/x-python",
   "name": "python",
   "nbconvert_exporter": "python",
   "pygments_lexer": "ipython3",
   "version": "3.8.2"
  },
  "orig_nbformat": 4,
  "vscode": {
   "interpreter": {
    "hash": "31f2aee4e71d21fbe5cf8b01ff0e069b9275f58929596ceb00d14d90e3e16cd6"
   }
  }
 },
 "nbformat": 4,
 "nbformat_minor": 2
}
