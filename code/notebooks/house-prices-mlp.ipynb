{
 "cells": [
  {
   "cell_type": "code",
   "execution_count": 1,
   "metadata": {},
   "outputs": [],
   "source": [
    "# code/notebooks/titanic-mlp.ipynb\n",
    "import sys\n",
    "sys.path.append('../utils')\n",
    "import os\n",
    "import pandas as pd\n",
    "import numpy as np\n",
    "import torch\n",
    "from torch import nn\n",
    "from load_data import load_data\n",
    "from train import train\n"
   ]
  },
  {
   "cell_type": "code",
   "execution_count": 2,
   "metadata": {},
   "outputs": [
    {
     "name": "stdout",
     "output_type": "stream",
     "text": [
      "tensor([[ 3.0000, 22.0000,  1.0000,  0.0000,  7.2500,  1.0000,  0.0000,  1.0000],\n",
      "        [ 1.0000, 38.0000,  1.0000,  0.0000, 71.2833,  0.0000,  0.0000,  0.0000],\n",
      "        [ 3.0000, 26.0000,  0.0000,  0.0000,  7.9250,  0.0000,  0.0000,  1.0000],\n",
      "        [ 1.0000, 35.0000,  1.0000,  0.0000, 53.1000,  0.0000,  0.0000,  1.0000],\n",
      "        [ 3.0000, 35.0000,  0.0000,  0.0000,  8.0500,  1.0000,  0.0000,  1.0000]])\n",
      "tensor([0., 1., 1., 1., 0.])\n",
      "tensor([[ 3.0000, 34.5000,  0.0000,  0.0000,  7.8292,  1.0000,  1.0000,  0.0000],\n",
      "        [ 3.0000, 47.0000,  1.0000,  0.0000,  7.0000,  0.0000,  0.0000,  1.0000],\n",
      "        [ 2.0000, 62.0000,  0.0000,  0.0000,  9.6875,  1.0000,  1.0000,  0.0000],\n",
      "        [ 3.0000, 27.0000,  0.0000,  0.0000,  8.6625,  1.0000,  0.0000,  1.0000],\n",
      "        [ 3.0000, 22.0000,  1.0000,  1.0000, 12.2875,  0.0000,  0.0000,  1.0000]])\n"
     ]
    }
   ],
   "source": [
    "# 设置索引字符串\n",
    "file_name=\"house-prices-mlp\"\n",
    "title=\"house-prices\"\n",
    "label=\"SalePrice\"\n",
    "id=\"Id\"\n",
    "\n",
    "# 加载数据\n",
    "X_train, y_train, X_val, y_val, X_test = load_data(title=title, label=label,\n",
    "                                     id=id,\n",
    "                                     drop_features=[\"Name\", \"Ticket\", \"Cabin\"],\n",
    "                                     fill_na=[\"Age\", \"Embarked\", \"Fare\"],\n",
    "                                     one_hot=[\"Sex\", \"Embarked\"])\n",
    "\n",
    "# 打印前5行\n",
    "print(X_train[:5])\n",
    "print(y_train[:5])\n",
    "print(X_test[:5])"
   ]
  },
  {
   "cell_type": "code",
   "execution_count": 3,
   "metadata": {},
   "outputs": [
    {
     "name": "stdout",
     "output_type": "stream",
     "text": [
      "Epoch: 100, Loss: 0.3527, Train Acc: 0.8583, Val Acc: 0.8652\n",
      "Epoch: 200, Loss: 0.3042, Train Acc: 0.8808, Val Acc: 0.8483\n",
      "Epoch: 300, Loss: 0.2808, Train Acc: 0.8850, Val Acc: 0.8315\n",
      "Epoch: 400, Loss: 0.2684, Train Acc: 0.8920, Val Acc: 0.8371\n",
      "Epoch: 500, Loss: 0.2651, Train Acc: 0.8934, Val Acc: 0.8371\n",
      "Epoch: 600, Loss: 0.2506, Train Acc: 0.8962, Val Acc: 0.8371\n",
      "Epoch: 700, Loss: 0.2456, Train Acc: 0.9032, Val Acc: 0.8315\n",
      "Epoch: 800, Loss: 0.2470, Train Acc: 0.8990, Val Acc: 0.8258\n",
      "Epoch: 900, Loss: 0.2355, Train Acc: 0.9060, Val Acc: 0.8371\n",
      "Epoch: 1000, Loss: 0.2303, Train Acc: 0.9074, Val Acc: 0.8315\n"
     ]
    }
   ],
   "source": [
    "# 模型\n",
    "model = nn.Sequential(\n",
    "    nn.BatchNorm1d(8),\n",
    "    nn.Linear(8, 32),\n",
    "    nn.ReLU(),\n",
    "    nn.BatchNorm1d(32),\n",
    "    nn.Linear(32, 1),\n",
    "    nn.Sigmoid()\n",
    ")\n",
    "\n",
    "# 训练模型\n",
    "train(model, X_train, y_train, X_val, y_val,\n",
    "        epochs=1000, loss_fn=nn.BCELoss(), optimizer=torch.optim.Adam(model.parameters(), lr = 0.01),\n",
    "        stage=100, draw=False, log=True)"
   ]
  },
  {
   "cell_type": "code",
   "execution_count": 4,
   "metadata": {},
   "outputs": [],
   "source": [
    "# 保存模型\n",
    "torch.save(model, \"../../models/\" + file_name + \".pt\")\n",
    "\n",
    "# 存储预测结果\n",
    "id_col = pd.read_csv(\"../../data/raw/\" + title + \"/test.csv\")[id]\n",
    "y_pred = model(X_test).detach().numpy().round().astype(int).flatten()\n",
    "\n",
    "submission = pd.DataFrame({\n",
    "    id: id_col,\n",
    "    label: y_pred\n",
    "})\n",
    "submission.to_csv(\"../../data/submission/\" + file_name + \".csv\", index=False)"
   ]
  }
 ],
 "metadata": {
  "kernelspec": {
   "display_name": "Python 3",
   "language": "python",
   "name": "python3"
  },
  "language_info": {
   "codemirror_mode": {
    "name": "ipython",
    "version": 3
   },
   "file_extension": ".py",
   "mimetype": "text/x-python",
   "name": "python",
   "nbconvert_exporter": "python",
   "pygments_lexer": "ipython3",
   "version": "3.8.9"
  },
  "orig_nbformat": 4,
  "vscode": {
   "interpreter": {
    "hash": "31f2aee4e71d21fbe5cf8b01ff0e069b9275f58929596ceb00d14d90e3e16cd6"
   }
  }
 },
 "nbformat": 4,
 "nbformat_minor": 2
}
